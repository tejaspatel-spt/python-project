{
 "cells": [
  {
   "cell_type": "code",
   "execution_count": 362,
   "metadata": {
    "collapsed": true,
    "pycharm": {
     "name": "#%%\n"
    }
   },
   "outputs": [],
   "source": [
    "import pandas as pd\n",
    "import requests\n",
    "import json\n",
    "import seaborn as sns\n",
    "import matplotlib.pyplot as plt"
   ]
  },
  {
   "cell_type": "code",
   "execution_count": 364,
   "outputs": [],
   "source": [
    "# Constants\n",
    "api_key = \"ZOC333QF0ZHXU5YD\"\n",
    "series = \"TIME_SERIES_DAILY\"\n",
    "request_url = \"https://www.alphavantage.co/query\"\n",
    "d_address = 'Data/Deaths.csv'\n",
    "c_address = 'Data/Confirmed.csv'"
   ],
   "metadata": {
    "collapsed": false,
    "pycharm": {
     "name": "#%%\n"
    }
   }
  },
  {
   "cell_type": "code",
   "execution_count": 359,
   "outputs": [],
   "source": [
    "def fetch_stock_values(symbol):\n",
    "    query_params = {\n",
    "        'function' : series,\n",
    "        'symbol' : symbol,\n",
    "        'apikey': api_key\n",
    "    }\n",
    "    headers = {\n",
    "        'User-Agent': 'XY',\n",
    "        'Content-type': 'application/json'\n",
    "    }\n",
    "    response = requests.get(request_url, headers=headers, params=query_params)\n",
    "    return response.text if response.status_code == 200 else \"Something went wrong\""
   ],
   "metadata": {
    "collapsed": false,
    "pycharm": {
     "name": "#%%\n"
    }
   }
  },
  {
   "cell_type": "code",
   "execution_count": 366,
   "outputs": [],
   "source": [
    "# SPDR S&P 500 ETF Trust\n",
    "spy_json = json.loads(fetch_stock_values(symbol='spy'))\n",
    "sdf = pd.DataFrame(spy_json['Time Series (Daily)']).astype(float)\n",
    "spy_df = sdf.drop(['1. open','4. close','5. volume'],axis=0)\n",
    "spy = spy_df.rename({'2. high' : 'high', '3. low' : 'low'})"
   ],
   "metadata": {
    "collapsed": false,
    "pycharm": {
     "name": "#%%\n"
    }
   }
  },
  {
   "cell_type": "code",
   "execution_count": 367,
   "outputs": [],
   "source": [
    "# Zoom Video Communications Inc\n",
    "zm_json = json.loads(fetch_stock_values(symbol='ZM'))\n",
    "zdf = pd.DataFrame(zm_json['Time Series (Daily)']).astype(float)\n",
    "zm_df = zdf.drop(['1. open','4. close','5. volume'],axis=0)\n",
    "zm = zm_df.rename({'2. high' : 'high', '3. low' : 'low'})"
   ],
   "metadata": {
    "collapsed": false,
    "pycharm": {
     "name": "#%%\n"
    }
   }
  },
  {
   "cell_type": "code",
   "execution_count": 368,
   "outputs": [],
   "source": [
    "# Delta Air Lines, Inc\n",
    "dal_json = json.loads(fetch_stock_values(symbol='DAL'))\n",
    "ddf = pd.DataFrame(dal_json['Time Series (Daily)']).astype(float)\n",
    "dal_df = ddf.drop(['1. open','4. close','5. volume'],axis=0)\n",
    "dal = dal_df.rename({'2. high' : 'high', '3. low' : 'low'})"
   ],
   "metadata": {
    "collapsed": false,
    "pycharm": {
     "name": "#%%\n"
    }
   }
  },
  {
   "cell_type": "code",
   "execution_count": 369,
   "outputs": [],
   "source": [
    "# Annaly Capital Management, Inc\n",
    "nly_json = json.loads(fetch_stock_values(symbol='NLY'))\n",
    "ndf = pd.DataFrame(nly_json['Time Series (Daily)']).astype(float)\n",
    "nly_df = ndf.drop(['1. open','4. close','5. volume'],axis=0)\n",
    "nly = nly_df.rename({'2. high' : 'high', '3. low' : 'low'})"
   ],
   "metadata": {
    "collapsed": false,
    "pycharm": {
     "name": "#%%\n"
    }
   }
  },
  {
   "cell_type": "code",
   "execution_count": 370,
   "outputs": [],
   "source": [
    "# GOLD\n",
    "gld_json = json.loads(fetch_stock_values(symbol='GOLD'))\n",
    "gdf = pd.DataFrame(gld_json['Time Series (Daily)']).astype(float)\n",
    "gld_df = gdf.drop(['1. open','4. close','5. volume'],axis=0)\n",
    "gld = gld_df.rename({'2. high' : 'high', '3. low' : 'low'})"
   ],
   "metadata": {
    "collapsed": false,
    "pycharm": {
     "name": "#%%\n"
    }
   }
  },
  {
   "cell_type": "code",
   "execution_count": 371,
   "outputs": [],
   "source": [
    "spy_tp_df = spy.T\n",
    "zm_tp_df = zm.T\n",
    "dal_tp_df = dal.T\n",
    "nly_tp_df = nly.T\n",
    "gld_tp_df = gld.T"
   ],
   "metadata": {
    "collapsed": false,
    "pycharm": {
     "name": "#%%\n"
    }
   }
  },
  {
   "cell_type": "code",
   "execution_count": 372,
   "outputs": [
    {
     "data": {
      "text/plain": "                high       low\nDate                          \n2022-04-25  428.6900  418.8400\n2022-04-22  438.0825  425.4400\n2022-04-21  450.0100  437.1000\n2022-04-20  447.5700  443.4800\n2022-04-19  445.8000  437.6800\n...              ...       ...\n2021-12-07  468.8800  458.6546\n2021-12-06  460.7900  453.5600\n2021-12-03  460.3000  448.9200\n2021-12-02  459.0700  450.3100\n2021-12-01  464.6700  450.2900\n\n[100 rows x 2 columns]",
      "text/html": "<div>\n<style scoped>\n    .dataframe tbody tr th:only-of-type {\n        vertical-align: middle;\n    }\n\n    .dataframe tbody tr th {\n        vertical-align: top;\n    }\n\n    .dataframe thead th {\n        text-align: right;\n    }\n</style>\n<table border=\"1\" class=\"dataframe\">\n  <thead>\n    <tr style=\"text-align: right;\">\n      <th></th>\n      <th>high</th>\n      <th>low</th>\n    </tr>\n    <tr>\n      <th>Date</th>\n      <th></th>\n      <th></th>\n    </tr>\n  </thead>\n  <tbody>\n    <tr>\n      <th>2022-04-25</th>\n      <td>428.6900</td>\n      <td>418.8400</td>\n    </tr>\n    <tr>\n      <th>2022-04-22</th>\n      <td>438.0825</td>\n      <td>425.4400</td>\n    </tr>\n    <tr>\n      <th>2022-04-21</th>\n      <td>450.0100</td>\n      <td>437.1000</td>\n    </tr>\n    <tr>\n      <th>2022-04-20</th>\n      <td>447.5700</td>\n      <td>443.4800</td>\n    </tr>\n    <tr>\n      <th>2022-04-19</th>\n      <td>445.8000</td>\n      <td>437.6800</td>\n    </tr>\n    <tr>\n      <th>...</th>\n      <td>...</td>\n      <td>...</td>\n    </tr>\n    <tr>\n      <th>2021-12-07</th>\n      <td>468.8800</td>\n      <td>458.6546</td>\n    </tr>\n    <tr>\n      <th>2021-12-06</th>\n      <td>460.7900</td>\n      <td>453.5600</td>\n    </tr>\n    <tr>\n      <th>2021-12-03</th>\n      <td>460.3000</td>\n      <td>448.9200</td>\n    </tr>\n    <tr>\n      <th>2021-12-02</th>\n      <td>459.0700</td>\n      <td>450.3100</td>\n    </tr>\n    <tr>\n      <th>2021-12-01</th>\n      <td>464.6700</td>\n      <td>450.2900</td>\n    </tr>\n  </tbody>\n</table>\n<p>100 rows × 2 columns</p>\n</div>"
     },
     "execution_count": 372,
     "metadata": {},
     "output_type": "execute_result"
    }
   ],
   "source": [
    "# spy_tp_df.index.name = 'Date'\n",
    "spy_tp_df.rename_axis('Date', inplace=True)\n",
    "spy_tp_df"
   ],
   "metadata": {
    "collapsed": false,
    "pycharm": {
     "name": "#%%\n"
    }
   }
  },
  {
   "cell_type": "code",
   "execution_count": 373,
   "outputs": [
    {
     "data": {
      "text/plain": "            Deaths\nDate              \n2022-04-25   38885\n2022-04-24   38878\n2022-04-23   38853\n2022-04-22   38801\n2022-04-21   38696\n...            ...\n2020-01-26       0\n2020-01-25       0\n2020-01-24       0\n2020-01-23       0\n2020-01-22       0\n\n[825 rows x 1 columns]",
      "text/html": "<div>\n<style scoped>\n    .dataframe tbody tr th:only-of-type {\n        vertical-align: middle;\n    }\n\n    .dataframe tbody tr th {\n        vertical-align: top;\n    }\n\n    .dataframe thead th {\n        text-align: right;\n    }\n</style>\n<table border=\"1\" class=\"dataframe\">\n  <thead>\n    <tr style=\"text-align: right;\">\n      <th></th>\n      <th>Deaths</th>\n    </tr>\n    <tr>\n      <th>Date</th>\n      <th></th>\n    </tr>\n  </thead>\n  <tbody>\n    <tr>\n      <th>2022-04-25</th>\n      <td>38885</td>\n    </tr>\n    <tr>\n      <th>2022-04-24</th>\n      <td>38878</td>\n    </tr>\n    <tr>\n      <th>2022-04-23</th>\n      <td>38853</td>\n    </tr>\n    <tr>\n      <th>2022-04-22</th>\n      <td>38801</td>\n    </tr>\n    <tr>\n      <th>2022-04-21</th>\n      <td>38696</td>\n    </tr>\n    <tr>\n      <th>...</th>\n      <td>...</td>\n    </tr>\n    <tr>\n      <th>2020-01-26</th>\n      <td>0</td>\n    </tr>\n    <tr>\n      <th>2020-01-25</th>\n      <td>0</td>\n    </tr>\n    <tr>\n      <th>2020-01-24</th>\n      <td>0</td>\n    </tr>\n    <tr>\n      <th>2020-01-23</th>\n      <td>0</td>\n    </tr>\n    <tr>\n      <th>2020-01-22</th>\n      <td>0</td>\n    </tr>\n  </tbody>\n</table>\n<p>825 rows × 1 columns</p>\n</div>"
     },
     "execution_count": 373,
     "metadata": {},
     "output_type": "execute_result"
    }
   ],
   "source": [
    "deaths_data = pd.read_csv(d_address, index_col=False)\n",
    "deaths_data['Date'] = pd.to_datetime(deaths_data['Date'], errors='coerce', utc=True)\n",
    "deaths_data['Date'] = deaths_data['Date'].values[::-1]\n",
    "deaths_data['Deaths'] = deaths_data['Deaths'].values[::-1]\n",
    "deaths_data.set_index('Date', inplace=True)\n",
    "deaths_data"
   ],
   "metadata": {
    "collapsed": false,
    "pycharm": {
     "name": "#%%\n"
    }
   }
  },
  {
   "cell_type": "code",
   "execution_count": null,
   "outputs": [],
   "source": [],
   "metadata": {
    "collapsed": false,
    "pycharm": {
     "name": "#%%\n"
    }
   }
  },
  {
   "cell_type": "code",
   "execution_count": null,
   "outputs": [],
   "source": [
    "# COVID Confirmed\n",
    "confirmed = pd.read_csv(c_address)\n",
    "confirmed_df = confirmed.dropna(axis=0,how='all')\n",
    "\n",
    "# COVID Deaths\n",
    "deaths = pd.read_csv(d_address)\n",
    "death_df = deaths.dropna(axis=0,how='all')"
   ],
   "metadata": {
    "collapsed": false,
    "pycharm": {
     "name": "#%%\n"
    }
   }
  },
  {
   "cell_type": "code",
   "execution_count": 378,
   "outputs": [],
   "source": [
    "# # Plotting Confirmed Cases\n",
    "# confirmed_df.plot.line(figsize=(15,8))\n",
    "# plt.title(\"Covid Confirmed Cases\")\n",
    "#\n",
    "# # Plotting Deaths\n",
    "# death_df.plot.line(figsize=(15,8))\n",
    "# plt.title(\"Covid Deaths\")\n",
    "\n",
    "# Plotting High-Low value\n",
    "# spy_tp_df.plot.line(figsize=(15,8))\n",
    "# deaths_data.plot.line(figsize=(15,8))\n",
    "# plt.title(\"SPDR S&P 500 ETF Trust\")\n",
    "\n",
    "# df1 = pd.DataFrame({'x': deaths_data['Date'], 'y1': deaths_data['Deaths'], 'type': 'a'})\n",
    "# df2 = pd.DataFrame({'x': spy_tp_df, 'y2': spy_tp_df[\"high\"], 'type': 'b'})\n",
    "\n",
    "# fig, ax = plt.subplots(figsize=(5, 5))\n",
    "#\n",
    "# sns.lineplot(data=spy_tp_df, x=spy_tp_df['Date'], y='y1', label='a', ax=ax)\n",
    "# sns.lineplot(data=spy_tp_df, x='x', y='y1', label='a', ax=ax)\n",
    "# sns.lineplot(data=deaths_data, x='x', y='y2', label='b', ax=ax)\n",
    "#\n",
    "# ax = spy_tp_df.plot(y='high', figsize=(15,8))\n",
    "# deaths_data.plot(x='Date', ax=ax)\n",
    "# d_new = pd.merge(spy_tp_df, deaths_data, left_index=True, right_index=True)\n",
    "d_new = pd.concat([spy_tp_df, deaths_data], axis=1)"
   ],
   "metadata": {
    "collapsed": false,
    "pycharm": {
     "name": "#%%\n"
    }
   }
  },
  {
   "cell_type": "code",
   "execution_count": 388,
   "outputs": [
    {
     "data": {
      "text/plain": "                         high     low  Deaths\nDate                                         \n2022-04-25           428.6900  418.84     NaN\n2022-04-22           438.0825  425.44     NaN\n2022-04-21           450.0100  437.10     NaN\n2022-04-20           447.5700  443.48     NaN\n2022-04-19           445.8000  437.68     NaN\n...                       ...     ...     ...\n2020-01-26 00:00:00       NaN     NaN     0.0\n2020-01-25 00:00:00       NaN     NaN     0.0\n2020-01-24 00:00:00       NaN     NaN     0.0\n2020-01-23 00:00:00       NaN     NaN     0.0\n2020-01-22 00:00:00       NaN     NaN     0.0\n\n[925 rows x 3 columns]",
      "text/html": "<div>\n<style scoped>\n    .dataframe tbody tr th:only-of-type {\n        vertical-align: middle;\n    }\n\n    .dataframe tbody tr th {\n        vertical-align: top;\n    }\n\n    .dataframe thead th {\n        text-align: right;\n    }\n</style>\n<table border=\"1\" class=\"dataframe\">\n  <thead>\n    <tr style=\"text-align: right;\">\n      <th></th>\n      <th>high</th>\n      <th>low</th>\n      <th>Deaths</th>\n    </tr>\n    <tr>\n      <th>Date</th>\n      <th></th>\n      <th></th>\n      <th></th>\n    </tr>\n  </thead>\n  <tbody>\n    <tr>\n      <th>2022-04-25</th>\n      <td>428.6900</td>\n      <td>418.84</td>\n      <td>NaN</td>\n    </tr>\n    <tr>\n      <th>2022-04-22</th>\n      <td>438.0825</td>\n      <td>425.44</td>\n      <td>NaN</td>\n    </tr>\n    <tr>\n      <th>2022-04-21</th>\n      <td>450.0100</td>\n      <td>437.10</td>\n      <td>NaN</td>\n    </tr>\n    <tr>\n      <th>2022-04-20</th>\n      <td>447.5700</td>\n      <td>443.48</td>\n      <td>NaN</td>\n    </tr>\n    <tr>\n      <th>2022-04-19</th>\n      <td>445.8000</td>\n      <td>437.68</td>\n      <td>NaN</td>\n    </tr>\n    <tr>\n      <th>...</th>\n      <td>...</td>\n      <td>...</td>\n      <td>...</td>\n    </tr>\n    <tr>\n      <th>2020-01-26 00:00:00</th>\n      <td>NaN</td>\n      <td>NaN</td>\n      <td>0.0</td>\n    </tr>\n    <tr>\n      <th>2020-01-25 00:00:00</th>\n      <td>NaN</td>\n      <td>NaN</td>\n      <td>0.0</td>\n    </tr>\n    <tr>\n      <th>2020-01-24 00:00:00</th>\n      <td>NaN</td>\n      <td>NaN</td>\n      <td>0.0</td>\n    </tr>\n    <tr>\n      <th>2020-01-23 00:00:00</th>\n      <td>NaN</td>\n      <td>NaN</td>\n      <td>0.0</td>\n    </tr>\n    <tr>\n      <th>2020-01-22 00:00:00</th>\n      <td>NaN</td>\n      <td>NaN</td>\n      <td>0.0</td>\n    </tr>\n  </tbody>\n</table>\n<p>925 rows × 3 columns</p>\n</div>"
     },
     "execution_count": 388,
     "metadata": {},
     "output_type": "execute_result"
    }
   ],
   "source": [
    "d_new"
   ],
   "metadata": {
    "collapsed": false,
    "pycharm": {
     "name": "#%%\n"
    }
   }
  },
  {
   "cell_type": "code",
   "execution_count": 390,
   "outputs": [
    {
     "data": {
      "text/plain": "                         high     low  Deaths            Timestamp\nDate                                                              \n2022-04-25           428.6900  418.84     NaN           2022-04-25\n2022-04-22           438.0825  425.44     NaN           2022-04-22\n2022-04-21           450.0100  437.10     NaN           2022-04-21\n2022-04-20           447.5700  443.48     NaN           2022-04-20\n2022-04-19           445.8000  437.68     NaN           2022-04-19\n...                       ...     ...     ...                  ...\n2020-01-26 00:00:00       NaN     NaN     0.0  2020-01-26 00:00:00\n2020-01-25 00:00:00       NaN     NaN     0.0  2020-01-25 00:00:00\n2020-01-24 00:00:00       NaN     NaN     0.0  2020-01-24 00:00:00\n2020-01-23 00:00:00       NaN     NaN     0.0  2020-01-23 00:00:00\n2020-01-22 00:00:00       NaN     NaN     0.0  2020-01-22 00:00:00\n\n[925 rows x 4 columns]",
      "text/html": "<div>\n<style scoped>\n    .dataframe tbody tr th:only-of-type {\n        vertical-align: middle;\n    }\n\n    .dataframe tbody tr th {\n        vertical-align: top;\n    }\n\n    .dataframe thead th {\n        text-align: right;\n    }\n</style>\n<table border=\"1\" class=\"dataframe\">\n  <thead>\n    <tr style=\"text-align: right;\">\n      <th></th>\n      <th>high</th>\n      <th>low</th>\n      <th>Deaths</th>\n      <th>Timestamp</th>\n    </tr>\n    <tr>\n      <th>Date</th>\n      <th></th>\n      <th></th>\n      <th></th>\n      <th></th>\n    </tr>\n  </thead>\n  <tbody>\n    <tr>\n      <th>2022-04-25</th>\n      <td>428.6900</td>\n      <td>418.84</td>\n      <td>NaN</td>\n      <td>2022-04-25</td>\n    </tr>\n    <tr>\n      <th>2022-04-22</th>\n      <td>438.0825</td>\n      <td>425.44</td>\n      <td>NaN</td>\n      <td>2022-04-22</td>\n    </tr>\n    <tr>\n      <th>2022-04-21</th>\n      <td>450.0100</td>\n      <td>437.10</td>\n      <td>NaN</td>\n      <td>2022-04-21</td>\n    </tr>\n    <tr>\n      <th>2022-04-20</th>\n      <td>447.5700</td>\n      <td>443.48</td>\n      <td>NaN</td>\n      <td>2022-04-20</td>\n    </tr>\n    <tr>\n      <th>2022-04-19</th>\n      <td>445.8000</td>\n      <td>437.68</td>\n      <td>NaN</td>\n      <td>2022-04-19</td>\n    </tr>\n    <tr>\n      <th>...</th>\n      <td>...</td>\n      <td>...</td>\n      <td>...</td>\n      <td>...</td>\n    </tr>\n    <tr>\n      <th>2020-01-26 00:00:00</th>\n      <td>NaN</td>\n      <td>NaN</td>\n      <td>0.0</td>\n      <td>2020-01-26 00:00:00</td>\n    </tr>\n    <tr>\n      <th>2020-01-25 00:00:00</th>\n      <td>NaN</td>\n      <td>NaN</td>\n      <td>0.0</td>\n      <td>2020-01-25 00:00:00</td>\n    </tr>\n    <tr>\n      <th>2020-01-24 00:00:00</th>\n      <td>NaN</td>\n      <td>NaN</td>\n      <td>0.0</td>\n      <td>2020-01-24 00:00:00</td>\n    </tr>\n    <tr>\n      <th>2020-01-23 00:00:00</th>\n      <td>NaN</td>\n      <td>NaN</td>\n      <td>0.0</td>\n      <td>2020-01-23 00:00:00</td>\n    </tr>\n    <tr>\n      <th>2020-01-22 00:00:00</th>\n      <td>NaN</td>\n      <td>NaN</td>\n      <td>0.0</td>\n      <td>2020-01-22 00:00:00</td>\n    </tr>\n  </tbody>\n</table>\n<p>925 rows × 4 columns</p>\n</div>"
     },
     "execution_count": 390,
     "metadata": {},
     "output_type": "execute_result"
    }
   ],
   "source": [
    "d_new['Timestamp'] = d_new.index\n",
    "d_new"
   ],
   "metadata": {
    "collapsed": false,
    "pycharm": {
     "name": "#%%\n"
    }
   }
  },
  {
   "cell_type": "code",
   "execution_count": 393,
   "outputs": [
    {
     "data": {
      "text/plain": "<AxesSubplot:xlabel='Timestamp', ylabel='high'>"
     },
     "execution_count": 393,
     "metadata": {},
     "output_type": "execute_result"
    },
    {
     "data": {
      "text/plain": "<Figure size 1080x576 with 1 Axes>",
      "image/png": "[encoded data removed]"
     },
     "metadata": {},
     "output_type": "display_data"
    }
   ],
   "source": [
    "fig, ax = plt.subplots(figsize=(15, 8))\n",
    "\n",
    "sns.lineplot(data=d_new, x=d_new['Timestamp'].astype(str), y=d_new['high'], label='a', ax=ax)\n",
    "sns.lineplot(data=d_new, x=d_new['Timestamp'].astype(str), y=d_new['low'], label='a', ax=ax)\n",
    "sns.lineplot(data=d_new, x=d_new['Timestamp'].astype(str), y=d_new['Deaths'], label='a', ax=ax)"
   ],
   "metadata": {
    "collapsed": false,
    "pycharm": {
     "name": "#%%\n"
    }
   }
  },
  {
   "cell_type": "code",
   "execution_count": null,
   "outputs": [],
   "source": [
    "# Plotting Confirmed Cases\n",
    "confirmed_df.plot.line(figsize=(15,8))\n",
    "plt.title(\"Covid Confirmed Cases\")\n",
    "\n",
    "# Plotting Deaths\n",
    "death_df.plot.line(figsize=(15,8))\n",
    "plt.title(\"Covid Deaths\")\n",
    "\n",
    "# Plotting High-Low value\n",
    "zm_tp_df.plot.line(figsize=(15,8))\n",
    "plt.title(\"Zoom\")"
   ],
   "metadata": {
    "collapsed": false,
    "pycharm": {
     "name": "#%%\n"
    }
   }
  },
  {
   "cell_type": "code",
   "execution_count": null,
   "outputs": [],
   "source": [
    "# Plotting Confirmed Cases\n",
    "confirmed_df.plot.line(figsize=(15,8))\n",
    "plt.title(\"Covid Confirmed Cases\")\n",
    "\n",
    "# Plotting Deaths\n",
    "death_df.plot.line(figsize=(15,8))\n",
    "plt.title(\"Covid Deaths\")\n",
    "\n",
    "# Plotting High-Low value\n",
    "dal_tp_df.plot.line(figsize=(15,8))\n",
    "plt.title(\"Delta Air Lines, Inc\")"
   ],
   "metadata": {
    "collapsed": false,
    "pycharm": {
     "name": "#%%\n"
    }
   }
  },
  {
   "cell_type": "code",
   "execution_count": null,
   "outputs": [],
   "source": [
    "# Plotting Confirmed Cases\n",
    "confirmed_df.plot.line(figsize=(15,8))\n",
    "plt.title(\"Covid Confirmed Cases\")\n",
    "\n",
    "# Plotting Deaths\n",
    "death_df.plot.line(figsize=(15,8))\n",
    "plt.title(\"Covid Deaths\")\n",
    "\n",
    "# Plotting High-Low value\n",
    "nly_tp_df.plot.line(figsize=(15,8))\n",
    "plt.title(\"Annaly Capital Management, Inc\")"
   ],
   "metadata": {
    "collapsed": false,
    "pycharm": {
     "name": "#%%\n"
    }
   }
  },
  {
   "cell_type": "code",
   "execution_count": null,
   "outputs": [],
   "source": [
    "# Plotting Confirmed Cases\n",
    "confirmed_df.plot.line(figsize=(15,8))\n",
    "plt.title(\"Covid Confirmed Cases\")\n",
    "\n",
    "# Plotting Deaths\n",
    "death_df.plot.line(figsize=(15,8))\n",
    "plt.title(\"Covid Deaths\")\n",
    "\n",
    "# Plotting High-Low value\n",
    "gld_tp_df.plot.line(figsize=(15,8))\n",
    "plt.title(\"GOLD\")"
   ],
   "metadata": {
    "collapsed": false,
    "pycharm": {
     "name": "#%%\n"
    }
   }
  }
 ],
 "metadata": {
  "kernelspec": {
   "display_name": "Python 3",
   "language": "python",
   "name": "python3"
  },
  "language_info": {
   "codemirror_mode": {
    "name": "ipython",
    "version": 2
   },
   "file_extension": ".py",
   "mimetype": "text/x-python",
   "name": "python",
   "nbconvert_exporter": "python",
   "pygments_lexer": "ipython2",
   "version": "2.7.6"
  }
 },
 "nbformat": 4,
 "nbformat_minor": 0
}