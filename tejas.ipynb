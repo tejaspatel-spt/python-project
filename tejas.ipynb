{
 "cells": [
  {
   "cell_type": "code",
   "execution_count": 90,
   "metadata": {
    "collapsed": true,
    "pycharm": {
     "name": "#%%\n"
    }
   },
   "outputs": [],
   "source": [
    "import pandas as pd\n",
    "import matplotlib.pyplot as plt\n",
    "import seaborn as sb\n",
    "import numpy as nm\n",
    "import requests\n",
    "import json"
   ]
  },
  {
   "cell_type": "code",
   "execution_count": 91,
   "outputs": [],
   "source": [
    "api_key = \"ZOC333QF0ZHXU5YD\"\n",
    "series = \"TIME_SERIES_DAILY\"\n",
    "request_url = \"https://www.alphavantage.co/query\""
   ],
   "metadata": {
    "collapsed": false,
    "pycharm": {
     "name": "#%%\n"
    }
   }
  },
  {
   "cell_type": "code",
   "execution_count": 92,
   "outputs": [],
   "source": [
    "def fetch_stock_values(symbol):\n",
    "    query_params = {\n",
    "        'function' : series,\n",
    "        'symbol' : symbol,\n",
    "        'apikey': api_key\n",
    "    }\n",
    "    headers = {\n",
    "        'User-Agent': 'XY',\n",
    "        'Content-type': 'application/json'\n",
    "    }\n",
    "    response = requests.get(request_url, headers=headers, params=query_params)\n",
    "    return response.text if response.status_code == 200 else \"Something went wrong\""
   ],
   "metadata": {
    "collapsed": false,
    "pycharm": {
     "name": "#%%\n"
    }
   }
  },
  {
   "cell_type": "code",
   "execution_count": 93,
   "outputs": [
    {
     "data": {
      "text/plain": "          2022-04-22 2022-04-21 2022-04-20 2022-04-19 2022-04-18 2022-04-14  \\\n1. open     436.9100   448.5400   446.9200   437.8600   436.8100   443.5500   \n2. high     438.0825   450.0100   447.5700   445.8000   439.7500   444.7301   \n3. low      425.4400   437.1000   443.4800   437.6800   435.6100   437.6800   \n4. close    426.0400   438.0600   444.7100   445.0400   437.9700   437.7900   \n5. volume  132471772   85417327   64140001   77821013   66002498   97869451   \n\n          2022-04-13 2022-04-12 2022-04-11 2022-04-08  ... 2021-12-13  \\\n1. open     438.0300   443.0800   444.1100   447.9700  ...   470.1900   \n2. high     444.1100   445.7500   445.0000   450.6300  ...   470.5600   \n3. low      437.8400   436.6501   439.3900   445.9400  ...   466.2700   \n4. close    443.3100   438.2900   439.9200   447.5700  ...   466.5700   \n5. volume   74070394   84363635   89770538   79272711  ...   87724680   \n\n          2021-12-10 2021-12-09 2021-12-08 2021-12-07 2021-12-06 2021-12-03  \\\n1. open     469.2300   468.1500   468.7000   464.4100   456.1300   459.1700   \n2. high     470.9000   469.6291   470.0000   468.8800   460.7900   460.3000   \n3. low      466.5100   466.1400   466.8300   458.6546   453.5600   448.9200   \n4. close    470.7400   466.3500   469.5200   468.2800   458.7900   453.4200   \n5. volume   77159757   61272568   72238777   95484688   98977532  137331647   \n\n          2021-12-02 2021-12-01 2021-11-30  \n1. open     450.7300   461.6400   462.0000  \n2. high     459.0700   464.6700   464.0300  \n3. low      450.3100   450.2900   455.3000  \n4. close    457.4000   450.5000   455.5600  \n5. volume  127637758  132485835  148559598  \n\n[5 rows x 100 columns]",
      "text/html": "<div>\n<style scoped>\n    .dataframe tbody tr th:only-of-type {\n        vertical-align: middle;\n    }\n\n    .dataframe tbody tr th {\n        vertical-align: top;\n    }\n\n    .dataframe thead th {\n        text-align: right;\n    }\n</style>\n<table border=\"1\" class=\"dataframe\">\n  <thead>\n    <tr style=\"text-align: right;\">\n      <th></th>\n      <th>2022-04-22</th>\n      <th>2022-04-21</th>\n      <th>2022-04-20</th>\n      <th>2022-04-19</th>\n      <th>2022-04-18</th>\n      <th>2022-04-14</th>\n      <th>2022-04-13</th>\n      <th>2022-04-12</th>\n      <th>2022-04-11</th>\n      <th>2022-04-08</th>\n      <th>...</th>\n      <th>2021-12-13</th>\n      <th>2021-12-10</th>\n      <th>2021-12-09</th>\n      <th>2021-12-08</th>\n      <th>2021-12-07</th>\n      <th>2021-12-06</th>\n      <th>2021-12-03</th>\n      <th>2021-12-02</th>\n      <th>2021-12-01</th>\n      <th>2021-11-30</th>\n    </tr>\n  </thead>\n  <tbody>\n    <tr>\n      <th>1. open</th>\n      <td>436.9100</td>\n      <td>448.5400</td>\n      <td>446.9200</td>\n      <td>437.8600</td>\n      <td>436.8100</td>\n      <td>443.5500</td>\n      <td>438.0300</td>\n      <td>443.0800</td>\n      <td>444.1100</td>\n      <td>447.9700</td>\n      <td>...</td>\n      <td>470.1900</td>\n      <td>469.2300</td>\n      <td>468.1500</td>\n      <td>468.7000</td>\n      <td>464.4100</td>\n      <td>456.1300</td>\n      <td>459.1700</td>\n      <td>450.7300</td>\n      <td>461.6400</td>\n      <td>462.0000</td>\n    </tr>\n    <tr>\n      <th>2. high</th>\n      <td>438.0825</td>\n      <td>450.0100</td>\n      <td>447.5700</td>\n      <td>445.8000</td>\n      <td>439.7500</td>\n      <td>444.7301</td>\n      <td>444.1100</td>\n      <td>445.7500</td>\n      <td>445.0000</td>\n      <td>450.6300</td>\n      <td>...</td>\n      <td>470.5600</td>\n      <td>470.9000</td>\n      <td>469.6291</td>\n      <td>470.0000</td>\n      <td>468.8800</td>\n      <td>460.7900</td>\n      <td>460.3000</td>\n      <td>459.0700</td>\n      <td>464.6700</td>\n      <td>464.0300</td>\n    </tr>\n    <tr>\n      <th>3. low</th>\n      <td>425.4400</td>\n      <td>437.1000</td>\n      <td>443.4800</td>\n      <td>437.6800</td>\n      <td>435.6100</td>\n      <td>437.6800</td>\n      <td>437.8400</td>\n      <td>436.6501</td>\n      <td>439.3900</td>\n      <td>445.9400</td>\n      <td>...</td>\n      <td>466.2700</td>\n      <td>466.5100</td>\n      <td>466.1400</td>\n      <td>466.8300</td>\n      <td>458.6546</td>\n      <td>453.5600</td>\n      <td>448.9200</td>\n      <td>450.3100</td>\n      <td>450.2900</td>\n      <td>455.3000</td>\n    </tr>\n    <tr>\n      <th>4. close</th>\n      <td>426.0400</td>\n      <td>438.0600</td>\n      <td>444.7100</td>\n      <td>445.0400</td>\n      <td>437.9700</td>\n      <td>437.7900</td>\n      <td>443.3100</td>\n      <td>438.2900</td>\n      <td>439.9200</td>\n      <td>447.5700</td>\n      <td>...</td>\n      <td>466.5700</td>\n      <td>470.7400</td>\n      <td>466.3500</td>\n      <td>469.5200</td>\n      <td>468.2800</td>\n      <td>458.7900</td>\n      <td>453.4200</td>\n      <td>457.4000</td>\n      <td>450.5000</td>\n      <td>455.5600</td>\n    </tr>\n    <tr>\n      <th>5. volume</th>\n      <td>132471772</td>\n      <td>85417327</td>\n      <td>64140001</td>\n      <td>77821013</td>\n      <td>66002498</td>\n      <td>97869451</td>\n      <td>74070394</td>\n      <td>84363635</td>\n      <td>89770538</td>\n      <td>79272711</td>\n      <td>...</td>\n      <td>87724680</td>\n      <td>77159757</td>\n      <td>61272568</td>\n      <td>72238777</td>\n      <td>95484688</td>\n      <td>98977532</td>\n      <td>137331647</td>\n      <td>127637758</td>\n      <td>132485835</td>\n      <td>148559598</td>\n    </tr>\n  </tbody>\n</table>\n<p>5 rows × 100 columns</p>\n</div>"
     },
     "execution_count": 93,
     "metadata": {},
     "output_type": "execute_result"
    }
   ],
   "source": [
    "# SPDR S&P 500 ETF Trust\n",
    "spy_json = json.loads(fetch_stock_values(symbol='spy'))\n",
    "spy_df = pd.DataFrame(spy_json['Time Series (Daily)'])\n",
    "spy_df"
   ],
   "metadata": {
    "collapsed": false,
    "pycharm": {
     "name": "#%%\n"
    }
   }
  },
  {
   "cell_type": "code",
   "execution_count": 94,
   "outputs": [
    {
     "data": {
      "text/plain": "          2022-04-22 2022-04-21 2022-04-20 2022-04-19 2022-04-18 2022-04-14  \\\n1. open     436.9100   448.5400   446.9200   437.8600   436.8100   443.5500   \n2. high     438.0825   450.0100   447.5700   445.8000   439.7500   444.7301   \n3. low      425.4400   437.1000   443.4800   437.6800   435.6100   437.6800   \n4. close    426.0400   438.0600   444.7100   445.0400   437.9700   437.7900   \n5. volume  132471772   85417327   64140001   77821013   66002498   97869451   \n\n          2022-04-13 2022-04-12 2022-04-11 2022-04-08  ... 2021-12-13  \\\n1. open     438.0300   443.0800   444.1100   447.9700  ...   470.1900   \n2. high     444.1100   445.7500   445.0000   450.6300  ...   470.5600   \n3. low      437.8400   436.6501   439.3900   445.9400  ...   466.2700   \n4. close    443.3100   438.2900   439.9200   447.5700  ...   466.5700   \n5. volume   74070394   84363635   89770538   79272711  ...   87724680   \n\n          2021-12-10 2021-12-09 2021-12-08 2021-12-07 2021-12-06 2021-12-03  \\\n1. open     469.2300   468.1500   468.7000   464.4100   456.1300   459.1700   \n2. high     470.9000   469.6291   470.0000   468.8800   460.7900   460.3000   \n3. low      466.5100   466.1400   466.8300   458.6546   453.5600   448.9200   \n4. close    470.7400   466.3500   469.5200   468.2800   458.7900   453.4200   \n5. volume   77159757   61272568   72238777   95484688   98977532  137331647   \n\n          2021-12-02 2021-12-01 2021-11-30  \n1. open     450.7300   461.6400   462.0000  \n2. high     459.0700   464.6700   464.0300  \n3. low      450.3100   450.2900   455.3000  \n4. close    457.4000   450.5000   455.5600  \n5. volume  127637758  132485835  148559598  \n\n[5 rows x 100 columns]",
      "text/html": "<div>\n<style scoped>\n    .dataframe tbody tr th:only-of-type {\n        vertical-align: middle;\n    }\n\n    .dataframe tbody tr th {\n        vertical-align: top;\n    }\n\n    .dataframe thead th {\n        text-align: right;\n    }\n</style>\n<table border=\"1\" class=\"dataframe\">\n  <thead>\n    <tr style=\"text-align: right;\">\n      <th></th>\n      <th>2022-04-22</th>\n      <th>2022-04-21</th>\n      <th>2022-04-20</th>\n      <th>2022-04-19</th>\n      <th>2022-04-18</th>\n      <th>2022-04-14</th>\n      <th>2022-04-13</th>\n      <th>2022-04-12</th>\n      <th>2022-04-11</th>\n      <th>2022-04-08</th>\n      <th>...</th>\n      <th>2021-12-13</th>\n      <th>2021-12-10</th>\n      <th>2021-12-09</th>\n      <th>2021-12-08</th>\n      <th>2021-12-07</th>\n      <th>2021-12-06</th>\n      <th>2021-12-03</th>\n      <th>2021-12-02</th>\n      <th>2021-12-01</th>\n      <th>2021-11-30</th>\n    </tr>\n  </thead>\n  <tbody>\n    <tr>\n      <th>1. open</th>\n      <td>436.9100</td>\n      <td>448.5400</td>\n      <td>446.9200</td>\n      <td>437.8600</td>\n      <td>436.8100</td>\n      <td>443.5500</td>\n      <td>438.0300</td>\n      <td>443.0800</td>\n      <td>444.1100</td>\n      <td>447.9700</td>\n      <td>...</td>\n      <td>470.1900</td>\n      <td>469.2300</td>\n      <td>468.1500</td>\n      <td>468.7000</td>\n      <td>464.4100</td>\n      <td>456.1300</td>\n      <td>459.1700</td>\n      <td>450.7300</td>\n      <td>461.6400</td>\n      <td>462.0000</td>\n    </tr>\n    <tr>\n      <th>2. high</th>\n      <td>438.0825</td>\n      <td>450.0100</td>\n      <td>447.5700</td>\n      <td>445.8000</td>\n      <td>439.7500</td>\n      <td>444.7301</td>\n      <td>444.1100</td>\n      <td>445.7500</td>\n      <td>445.0000</td>\n      <td>450.6300</td>\n      <td>...</td>\n      <td>470.5600</td>\n      <td>470.9000</td>\n      <td>469.6291</td>\n      <td>470.0000</td>\n      <td>468.8800</td>\n      <td>460.7900</td>\n      <td>460.3000</td>\n      <td>459.0700</td>\n      <td>464.6700</td>\n      <td>464.0300</td>\n    </tr>\n    <tr>\n      <th>3. low</th>\n      <td>425.4400</td>\n      <td>437.1000</td>\n      <td>443.4800</td>\n      <td>437.6800</td>\n      <td>435.6100</td>\n      <td>437.6800</td>\n      <td>437.8400</td>\n      <td>436.6501</td>\n      <td>439.3900</td>\n      <td>445.9400</td>\n      <td>...</td>\n      <td>466.2700</td>\n      <td>466.5100</td>\n      <td>466.1400</td>\n      <td>466.8300</td>\n      <td>458.6546</td>\n      <td>453.5600</td>\n      <td>448.9200</td>\n      <td>450.3100</td>\n      <td>450.2900</td>\n      <td>455.3000</td>\n    </tr>\n    <tr>\n      <th>4. close</th>\n      <td>426.0400</td>\n      <td>438.0600</td>\n      <td>444.7100</td>\n      <td>445.0400</td>\n      <td>437.9700</td>\n      <td>437.7900</td>\n      <td>443.3100</td>\n      <td>438.2900</td>\n      <td>439.9200</td>\n      <td>447.5700</td>\n      <td>...</td>\n      <td>466.5700</td>\n      <td>470.7400</td>\n      <td>466.3500</td>\n      <td>469.5200</td>\n      <td>468.2800</td>\n      <td>458.7900</td>\n      <td>453.4200</td>\n      <td>457.4000</td>\n      <td>450.5000</td>\n      <td>455.5600</td>\n    </tr>\n    <tr>\n      <th>5. volume</th>\n      <td>132471772</td>\n      <td>85417327</td>\n      <td>64140001</td>\n      <td>77821013</td>\n      <td>66002498</td>\n      <td>97869451</td>\n      <td>74070394</td>\n      <td>84363635</td>\n      <td>89770538</td>\n      <td>79272711</td>\n      <td>...</td>\n      <td>87724680</td>\n      <td>77159757</td>\n      <td>61272568</td>\n      <td>72238777</td>\n      <td>95484688</td>\n      <td>98977532</td>\n      <td>137331647</td>\n      <td>127637758</td>\n      <td>132485835</td>\n      <td>148559598</td>\n    </tr>\n  </tbody>\n</table>\n<p>5 rows × 100 columns</p>\n</div>"
     },
     "execution_count": 94,
     "metadata": {},
     "output_type": "execute_result"
    }
   ],
   "source": [
    "# Zoom Video Communications Inc\n",
    "zm_json = json.loads(fetch_stock_values(symbol='ZM'))\n",
    "zm_df = pd.DataFrame(spy_json['Time Series (Daily)'])\n",
    "zm_df"
   ],
   "metadata": {
    "collapsed": false,
    "pycharm": {
     "name": "#%%\n"
    }
   }
  },
  {
   "cell_type": "code",
   "execution_count": 95,
   "outputs": [
    {
     "data": {
      "text/plain": "          2022-04-22 2022-04-21 2022-04-20 2022-04-19 2022-04-18 2022-04-14  \\\n1. open     436.9100   448.5400   446.9200   437.8600   436.8100   443.5500   \n2. high     438.0825   450.0100   447.5700   445.8000   439.7500   444.7301   \n3. low      425.4400   437.1000   443.4800   437.6800   435.6100   437.6800   \n4. close    426.0400   438.0600   444.7100   445.0400   437.9700   437.7900   \n5. volume  132471772   85417327   64140001   77821013   66002498   97869451   \n\n          2022-04-13 2022-04-12 2022-04-11 2022-04-08  ... 2021-12-13  \\\n1. open     438.0300   443.0800   444.1100   447.9700  ...   470.1900   \n2. high     444.1100   445.7500   445.0000   450.6300  ...   470.5600   \n3. low      437.8400   436.6501   439.3900   445.9400  ...   466.2700   \n4. close    443.3100   438.2900   439.9200   447.5700  ...   466.5700   \n5. volume   74070394   84363635   89770538   79272711  ...   87724680   \n\n          2021-12-10 2021-12-09 2021-12-08 2021-12-07 2021-12-06 2021-12-03  \\\n1. open     469.2300   468.1500   468.7000   464.4100   456.1300   459.1700   \n2. high     470.9000   469.6291   470.0000   468.8800   460.7900   460.3000   \n3. low      466.5100   466.1400   466.8300   458.6546   453.5600   448.9200   \n4. close    470.7400   466.3500   469.5200   468.2800   458.7900   453.4200   \n5. volume   77159757   61272568   72238777   95484688   98977532  137331647   \n\n          2021-12-02 2021-12-01 2021-11-30  \n1. open     450.7300   461.6400   462.0000  \n2. high     459.0700   464.6700   464.0300  \n3. low      450.3100   450.2900   455.3000  \n4. close    457.4000   450.5000   455.5600  \n5. volume  127637758  132485835  148559598  \n\n[5 rows x 100 columns]",
      "text/html": "<div>\n<style scoped>\n    .dataframe tbody tr th:only-of-type {\n        vertical-align: middle;\n    }\n\n    .dataframe tbody tr th {\n        vertical-align: top;\n    }\n\n    .dataframe thead th {\n        text-align: right;\n    }\n</style>\n<table border=\"1\" class=\"dataframe\">\n  <thead>\n    <tr style=\"text-align: right;\">\n      <th></th>\n      <th>2022-04-22</th>\n      <th>2022-04-21</th>\n      <th>2022-04-20</th>\n      <th>2022-04-19</th>\n      <th>2022-04-18</th>\n      <th>2022-04-14</th>\n      <th>2022-04-13</th>\n      <th>2022-04-12</th>\n      <th>2022-04-11</th>\n      <th>2022-04-08</th>\n      <th>...</th>\n      <th>2021-12-13</th>\n      <th>2021-12-10</th>\n      <th>2021-12-09</th>\n      <th>2021-12-08</th>\n      <th>2021-12-07</th>\n      <th>2021-12-06</th>\n      <th>2021-12-03</th>\n      <th>2021-12-02</th>\n      <th>2021-12-01</th>\n      <th>2021-11-30</th>\n    </tr>\n  </thead>\n  <tbody>\n    <tr>\n      <th>1. open</th>\n      <td>436.9100</td>\n      <td>448.5400</td>\n      <td>446.9200</td>\n      <td>437.8600</td>\n      <td>436.8100</td>\n      <td>443.5500</td>\n      <td>438.0300</td>\n      <td>443.0800</td>\n      <td>444.1100</td>\n      <td>447.9700</td>\n      <td>...</td>\n      <td>470.1900</td>\n      <td>469.2300</td>\n      <td>468.1500</td>\n      <td>468.7000</td>\n      <td>464.4100</td>\n      <td>456.1300</td>\n      <td>459.1700</td>\n      <td>450.7300</td>\n      <td>461.6400</td>\n      <td>462.0000</td>\n    </tr>\n    <tr>\n      <th>2. high</th>\n      <td>438.0825</td>\n      <td>450.0100</td>\n      <td>447.5700</td>\n      <td>445.8000</td>\n      <td>439.7500</td>\n      <td>444.7301</td>\n      <td>444.1100</td>\n      <td>445.7500</td>\n      <td>445.0000</td>\n      <td>450.6300</td>\n      <td>...</td>\n      <td>470.5600</td>\n      <td>470.9000</td>\n      <td>469.6291</td>\n      <td>470.0000</td>\n      <td>468.8800</td>\n      <td>460.7900</td>\n      <td>460.3000</td>\n      <td>459.0700</td>\n      <td>464.6700</td>\n      <td>464.0300</td>\n    </tr>\n    <tr>\n      <th>3. low</th>\n      <td>425.4400</td>\n      <td>437.1000</td>\n      <td>443.4800</td>\n      <td>437.6800</td>\n      <td>435.6100</td>\n      <td>437.6800</td>\n      <td>437.8400</td>\n      <td>436.6501</td>\n      <td>439.3900</td>\n      <td>445.9400</td>\n      <td>...</td>\n      <td>466.2700</td>\n      <td>466.5100</td>\n      <td>466.1400</td>\n      <td>466.8300</td>\n      <td>458.6546</td>\n      <td>453.5600</td>\n      <td>448.9200</td>\n      <td>450.3100</td>\n      <td>450.2900</td>\n      <td>455.3000</td>\n    </tr>\n    <tr>\n      <th>4. close</th>\n      <td>426.0400</td>\n      <td>438.0600</td>\n      <td>444.7100</td>\n      <td>445.0400</td>\n      <td>437.9700</td>\n      <td>437.7900</td>\n      <td>443.3100</td>\n      <td>438.2900</td>\n      <td>439.9200</td>\n      <td>447.5700</td>\n      <td>...</td>\n      <td>466.5700</td>\n      <td>470.7400</td>\n      <td>466.3500</td>\n      <td>469.5200</td>\n      <td>468.2800</td>\n      <td>458.7900</td>\n      <td>453.4200</td>\n      <td>457.4000</td>\n      <td>450.5000</td>\n      <td>455.5600</td>\n    </tr>\n    <tr>\n      <th>5. volume</th>\n      <td>132471772</td>\n      <td>85417327</td>\n      <td>64140001</td>\n      <td>77821013</td>\n      <td>66002498</td>\n      <td>97869451</td>\n      <td>74070394</td>\n      <td>84363635</td>\n      <td>89770538</td>\n      <td>79272711</td>\n      <td>...</td>\n      <td>87724680</td>\n      <td>77159757</td>\n      <td>61272568</td>\n      <td>72238777</td>\n      <td>95484688</td>\n      <td>98977532</td>\n      <td>137331647</td>\n      <td>127637758</td>\n      <td>132485835</td>\n      <td>148559598</td>\n    </tr>\n  </tbody>\n</table>\n<p>5 rows × 100 columns</p>\n</div>"
     },
     "execution_count": 95,
     "metadata": {},
     "output_type": "execute_result"
    }
   ],
   "source": [
    "# Delta Air Lines, Inc\n",
    "dal_json = json.loads(fetch_stock_values(symbol='DAL'))\n",
    "dal_df = pd.DataFrame(spy_json['Time Series (Daily)'])\n",
    "dal_df"
   ],
   "metadata": {
    "collapsed": false,
    "pycharm": {
     "name": "#%%\n"
    }
   }
  },
  {
   "cell_type": "code",
   "execution_count": 96,
   "outputs": [
    {
     "data": {
      "text/plain": "          2022-04-22 2022-04-21 2022-04-20 2022-04-19 2022-04-18 2022-04-14  \\\n1. open     436.9100   448.5400   446.9200   437.8600   436.8100   443.5500   \n2. high     438.0825   450.0100   447.5700   445.8000   439.7500   444.7301   \n3. low      425.4400   437.1000   443.4800   437.6800   435.6100   437.6800   \n4. close    426.0400   438.0600   444.7100   445.0400   437.9700   437.7900   \n5. volume  132471772   85417327   64140001   77821013   66002498   97869451   \n\n          2022-04-13 2022-04-12 2022-04-11 2022-04-08  ... 2021-12-13  \\\n1. open     438.0300   443.0800   444.1100   447.9700  ...   470.1900   \n2. high     444.1100   445.7500   445.0000   450.6300  ...   470.5600   \n3. low      437.8400   436.6501   439.3900   445.9400  ...   466.2700   \n4. close    443.3100   438.2900   439.9200   447.5700  ...   466.5700   \n5. volume   74070394   84363635   89770538   79272711  ...   87724680   \n\n          2021-12-10 2021-12-09 2021-12-08 2021-12-07 2021-12-06 2021-12-03  \\\n1. open     469.2300   468.1500   468.7000   464.4100   456.1300   459.1700   \n2. high     470.9000   469.6291   470.0000   468.8800   460.7900   460.3000   \n3. low      466.5100   466.1400   466.8300   458.6546   453.5600   448.9200   \n4. close    470.7400   466.3500   469.5200   468.2800   458.7900   453.4200   \n5. volume   77159757   61272568   72238777   95484688   98977532  137331647   \n\n          2021-12-02 2021-12-01 2021-11-30  \n1. open     450.7300   461.6400   462.0000  \n2. high     459.0700   464.6700   464.0300  \n3. low      450.3100   450.2900   455.3000  \n4. close    457.4000   450.5000   455.5600  \n5. volume  127637758  132485835  148559598  \n\n[5 rows x 100 columns]",
      "text/html": "<div>\n<style scoped>\n    .dataframe tbody tr th:only-of-type {\n        vertical-align: middle;\n    }\n\n    .dataframe tbody tr th {\n        vertical-align: top;\n    }\n\n    .dataframe thead th {\n        text-align: right;\n    }\n</style>\n<table border=\"1\" class=\"dataframe\">\n  <thead>\n    <tr style=\"text-align: right;\">\n      <th></th>\n      <th>2022-04-22</th>\n      <th>2022-04-21</th>\n      <th>2022-04-20</th>\n      <th>2022-04-19</th>\n      <th>2022-04-18</th>\n      <th>2022-04-14</th>\n      <th>2022-04-13</th>\n      <th>2022-04-12</th>\n      <th>2022-04-11</th>\n      <th>2022-04-08</th>\n      <th>...</th>\n      <th>2021-12-13</th>\n      <th>2021-12-10</th>\n      <th>2021-12-09</th>\n      <th>2021-12-08</th>\n      <th>2021-12-07</th>\n      <th>2021-12-06</th>\n      <th>2021-12-03</th>\n      <th>2021-12-02</th>\n      <th>2021-12-01</th>\n      <th>2021-11-30</th>\n    </tr>\n  </thead>\n  <tbody>\n    <tr>\n      <th>1. open</th>\n      <td>436.9100</td>\n      <td>448.5400</td>\n      <td>446.9200</td>\n      <td>437.8600</td>\n      <td>436.8100</td>\n      <td>443.5500</td>\n      <td>438.0300</td>\n      <td>443.0800</td>\n      <td>444.1100</td>\n      <td>447.9700</td>\n      <td>...</td>\n      <td>470.1900</td>\n      <td>469.2300</td>\n      <td>468.1500</td>\n      <td>468.7000</td>\n      <td>464.4100</td>\n      <td>456.1300</td>\n      <td>459.1700</td>\n      <td>450.7300</td>\n      <td>461.6400</td>\n      <td>462.0000</td>\n    </tr>\n    <tr>\n      <th>2. high</th>\n      <td>438.0825</td>\n      <td>450.0100</td>\n      <td>447.5700</td>\n      <td>445.8000</td>\n      <td>439.7500</td>\n      <td>444.7301</td>\n      <td>444.1100</td>\n      <td>445.7500</td>\n      <td>445.0000</td>\n      <td>450.6300</td>\n      <td>...</td>\n      <td>470.5600</td>\n      <td>470.9000</td>\n      <td>469.6291</td>\n      <td>470.0000</td>\n      <td>468.8800</td>\n      <td>460.7900</td>\n      <td>460.3000</td>\n      <td>459.0700</td>\n      <td>464.6700</td>\n      <td>464.0300</td>\n    </tr>\n    <tr>\n      <th>3. low</th>\n      <td>425.4400</td>\n      <td>437.1000</td>\n      <td>443.4800</td>\n      <td>437.6800</td>\n      <td>435.6100</td>\n      <td>437.6800</td>\n      <td>437.8400</td>\n      <td>436.6501</td>\n      <td>439.3900</td>\n      <td>445.9400</td>\n      <td>...</td>\n      <td>466.2700</td>\n      <td>466.5100</td>\n      <td>466.1400</td>\n      <td>466.8300</td>\n      <td>458.6546</td>\n      <td>453.5600</td>\n      <td>448.9200</td>\n      <td>450.3100</td>\n      <td>450.2900</td>\n      <td>455.3000</td>\n    </tr>\n    <tr>\n      <th>4. close</th>\n      <td>426.0400</td>\n      <td>438.0600</td>\n      <td>444.7100</td>\n      <td>445.0400</td>\n      <td>437.9700</td>\n      <td>437.7900</td>\n      <td>443.3100</td>\n      <td>438.2900</td>\n      <td>439.9200</td>\n      <td>447.5700</td>\n      <td>...</td>\n      <td>466.5700</td>\n      <td>470.7400</td>\n      <td>466.3500</td>\n      <td>469.5200</td>\n      <td>468.2800</td>\n      <td>458.7900</td>\n      <td>453.4200</td>\n      <td>457.4000</td>\n      <td>450.5000</td>\n      <td>455.5600</td>\n    </tr>\n    <tr>\n      <th>5. volume</th>\n      <td>132471772</td>\n      <td>85417327</td>\n      <td>64140001</td>\n      <td>77821013</td>\n      <td>66002498</td>\n      <td>97869451</td>\n      <td>74070394</td>\n      <td>84363635</td>\n      <td>89770538</td>\n      <td>79272711</td>\n      <td>...</td>\n      <td>87724680</td>\n      <td>77159757</td>\n      <td>61272568</td>\n      <td>72238777</td>\n      <td>95484688</td>\n      <td>98977532</td>\n      <td>137331647</td>\n      <td>127637758</td>\n      <td>132485835</td>\n      <td>148559598</td>\n    </tr>\n  </tbody>\n</table>\n<p>5 rows × 100 columns</p>\n</div>"
     },
     "execution_count": 96,
     "metadata": {},
     "output_type": "execute_result"
    }
   ],
   "source": [
    "# Annaly Capital Management, Inc\n",
    "nly_json = json.loads(fetch_stock_values(symbol='NLY'))\n",
    "nly_df = pd.DataFrame(spy_json['Time Series (Daily)'])\n",
    "nly_df"
   ],
   "metadata": {
    "collapsed": false,
    "pycharm": {
     "name": "#%%\n"
    }
   }
  },
  {
   "cell_type": "code",
   "execution_count": 97,
   "outputs": [
    {
     "data": {
      "text/plain": "          2022-04-22 2022-04-21 2022-04-20 2022-04-19 2022-04-18 2022-04-14  \\\n1. open     436.9100   448.5400   446.9200   437.8600   436.8100   443.5500   \n2. high     438.0825   450.0100   447.5700   445.8000   439.7500   444.7301   \n3. low      425.4400   437.1000   443.4800   437.6800   435.6100   437.6800   \n4. close    426.0400   438.0600   444.7100   445.0400   437.9700   437.7900   \n5. volume  132471772   85417327   64140001   77821013   66002498   97869451   \n\n          2022-04-13 2022-04-12 2022-04-11 2022-04-08  ... 2021-12-13  \\\n1. open     438.0300   443.0800   444.1100   447.9700  ...   470.1900   \n2. high     444.1100   445.7500   445.0000   450.6300  ...   470.5600   \n3. low      437.8400   436.6501   439.3900   445.9400  ...   466.2700   \n4. close    443.3100   438.2900   439.9200   447.5700  ...   466.5700   \n5. volume   74070394   84363635   89770538   79272711  ...   87724680   \n\n          2021-12-10 2021-12-09 2021-12-08 2021-12-07 2021-12-06 2021-12-03  \\\n1. open     469.2300   468.1500   468.7000   464.4100   456.1300   459.1700   \n2. high     470.9000   469.6291   470.0000   468.8800   460.7900   460.3000   \n3. low      466.5100   466.1400   466.8300   458.6546   453.5600   448.9200   \n4. close    470.7400   466.3500   469.5200   468.2800   458.7900   453.4200   \n5. volume   77159757   61272568   72238777   95484688   98977532  137331647   \n\n          2021-12-02 2021-12-01 2021-11-30  \n1. open     450.7300   461.6400   462.0000  \n2. high     459.0700   464.6700   464.0300  \n3. low      450.3100   450.2900   455.3000  \n4. close    457.4000   450.5000   455.5600  \n5. volume  127637758  132485835  148559598  \n\n[5 rows x 100 columns]",
      "text/html": "<div>\n<style scoped>\n    .dataframe tbody tr th:only-of-type {\n        vertical-align: middle;\n    }\n\n    .dataframe tbody tr th {\n        vertical-align: top;\n    }\n\n    .dataframe thead th {\n        text-align: right;\n    }\n</style>\n<table border=\"1\" class=\"dataframe\">\n  <thead>\n    <tr style=\"text-align: right;\">\n      <th></th>\n      <th>2022-04-22</th>\n      <th>2022-04-21</th>\n      <th>2022-04-20</th>\n      <th>2022-04-19</th>\n      <th>2022-04-18</th>\n      <th>2022-04-14</th>\n      <th>2022-04-13</th>\n      <th>2022-04-12</th>\n      <th>2022-04-11</th>\n      <th>2022-04-08</th>\n      <th>...</th>\n      <th>2021-12-13</th>\n      <th>2021-12-10</th>\n      <th>2021-12-09</th>\n      <th>2021-12-08</th>\n      <th>2021-12-07</th>\n      <th>2021-12-06</th>\n      <th>2021-12-03</th>\n      <th>2021-12-02</th>\n      <th>2021-12-01</th>\n      <th>2021-11-30</th>\n    </tr>\n  </thead>\n  <tbody>\n    <tr>\n      <th>1. open</th>\n      <td>436.9100</td>\n      <td>448.5400</td>\n      <td>446.9200</td>\n      <td>437.8600</td>\n      <td>436.8100</td>\n      <td>443.5500</td>\n      <td>438.0300</td>\n      <td>443.0800</td>\n      <td>444.1100</td>\n      <td>447.9700</td>\n      <td>...</td>\n      <td>470.1900</td>\n      <td>469.2300</td>\n      <td>468.1500</td>\n      <td>468.7000</td>\n      <td>464.4100</td>\n      <td>456.1300</td>\n      <td>459.1700</td>\n      <td>450.7300</td>\n      <td>461.6400</td>\n      <td>462.0000</td>\n    </tr>\n    <tr>\n      <th>2. high</th>\n      <td>438.0825</td>\n      <td>450.0100</td>\n      <td>447.5700</td>\n      <td>445.8000</td>\n      <td>439.7500</td>\n      <td>444.7301</td>\n      <td>444.1100</td>\n      <td>445.7500</td>\n      <td>445.0000</td>\n      <td>450.6300</td>\n      <td>...</td>\n      <td>470.5600</td>\n      <td>470.9000</td>\n      <td>469.6291</td>\n      <td>470.0000</td>\n      <td>468.8800</td>\n      <td>460.7900</td>\n      <td>460.3000</td>\n      <td>459.0700</td>\n      <td>464.6700</td>\n      <td>464.0300</td>\n    </tr>\n    <tr>\n      <th>3. low</th>\n      <td>425.4400</td>\n      <td>437.1000</td>\n      <td>443.4800</td>\n      <td>437.6800</td>\n      <td>435.6100</td>\n      <td>437.6800</td>\n      <td>437.8400</td>\n      <td>436.6501</td>\n      <td>439.3900</td>\n      <td>445.9400</td>\n      <td>...</td>\n      <td>466.2700</td>\n      <td>466.5100</td>\n      <td>466.1400</td>\n      <td>466.8300</td>\n      <td>458.6546</td>\n      <td>453.5600</td>\n      <td>448.9200</td>\n      <td>450.3100</td>\n      <td>450.2900</td>\n      <td>455.3000</td>\n    </tr>\n    <tr>\n      <th>4. close</th>\n      <td>426.0400</td>\n      <td>438.0600</td>\n      <td>444.7100</td>\n      <td>445.0400</td>\n      <td>437.9700</td>\n      <td>437.7900</td>\n      <td>443.3100</td>\n      <td>438.2900</td>\n      <td>439.9200</td>\n      <td>447.5700</td>\n      <td>...</td>\n      <td>466.5700</td>\n      <td>470.7400</td>\n      <td>466.3500</td>\n      <td>469.5200</td>\n      <td>468.2800</td>\n      <td>458.7900</td>\n      <td>453.4200</td>\n      <td>457.4000</td>\n      <td>450.5000</td>\n      <td>455.5600</td>\n    </tr>\n    <tr>\n      <th>5. volume</th>\n      <td>132471772</td>\n      <td>85417327</td>\n      <td>64140001</td>\n      <td>77821013</td>\n      <td>66002498</td>\n      <td>97869451</td>\n      <td>74070394</td>\n      <td>84363635</td>\n      <td>89770538</td>\n      <td>79272711</td>\n      <td>...</td>\n      <td>87724680</td>\n      <td>77159757</td>\n      <td>61272568</td>\n      <td>72238777</td>\n      <td>95484688</td>\n      <td>98977532</td>\n      <td>137331647</td>\n      <td>127637758</td>\n      <td>132485835</td>\n      <td>148559598</td>\n    </tr>\n  </tbody>\n</table>\n<p>5 rows × 100 columns</p>\n</div>"
     },
     "execution_count": 97,
     "metadata": {},
     "output_type": "execute_result"
    }
   ],
   "source": [
    "# GOLD\n",
    "gld_json = json.loads(fetch_stock_values(symbol='GOLD'))\n",
    "gld_df = pd.DataFrame(spy_json['Time Series (Daily)'])\n",
    "gld_df"
   ],
   "metadata": {
    "collapsed": false,
    "pycharm": {
     "name": "#%%\n"
    }
   }
  },
  {
   "cell_type": "code",
   "execution_count": null,
   "outputs": [],
   "source": [],
   "metadata": {
    "collapsed": false,
    "pycharm": {
     "name": "#%%\n"
    }
   }
  }
 ],
 "metadata": {
  "kernelspec": {
   "display_name": "Python 3",
   "language": "python",
   "name": "python3"
  },
  "language_info": {
   "codemirror_mode": {
    "name": "ipython",
    "version": 2
   },
   "file_extension": ".py",
   "mimetype": "text/x-python",
   "name": "python",
   "nbconvert_exporter": "python",
   "pygments_lexer": "ipython2",
   "version": "2.7.6"
  }
 },
 "nbformat": 4,
 "nbformat_minor": 0
}