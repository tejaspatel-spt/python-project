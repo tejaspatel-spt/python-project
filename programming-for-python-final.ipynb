{
 "cells": [
  {
   "cell_type": "code",
   "execution_count": 26,
   "metadata": {
    "collapsed": true,
    "pycharm": {
     "name": "#%%\n"
    }
   },
   "outputs": [],
   "source": [
    "import pandas as pd\n",
    "import requests\n",
    "import json\n",
    "import seaborn as sns\n",
    "import matplotlib.pyplot as plt"
   ]
  },
  {
   "cell_type": "code",
   "execution_count": 27,
   "outputs": [],
   "source": [
    "# Defining Constants\n",
    "api_key = \"ZOC333QF0ZHXU5YD\"\n",
    "series = \"TIME_SERIES_DAILY\"\n",
    "request_url = \"https://www.alphavantage.co/query\""
   ],
   "metadata": {
    "collapsed": false,
    "pycharm": {
     "name": "#%%\n"
    }
   }
  },
  {
   "cell_type": "markdown",
   "source": [
    "### Fetching Stock Datasets from Alphavantage"
   ],
   "metadata": {
    "collapsed": false,
    "pycharm": {
     "name": "#%% md\n"
    }
   }
  },
  {
   "cell_type": "code",
   "execution_count": 28,
   "outputs": [],
   "source": [
    "def fetch_stock_values(symbol):\n",
    "    query_params = {\n",
    "        'function' : series,\n",
    "        'symbol' : symbol,\n",
    "        'apikey': api_key\n",
    "    }\n",
    "    headers = {\n",
    "        'User-Agent': 'XY',\n",
    "        'Content-type': 'application/json'\n",
    "    }\n",
    "    response = requests.get(request_url, headers=headers, params=query_params)\n",
    "    return response.text if response.status_code == 200 else \"Something went wrong\""
   ],
   "metadata": {
    "collapsed": false,
    "pycharm": {
     "name": "#%%\n"
    }
   }
  },
  {
   "cell_type": "markdown",
   "source": [
    "#### 1. First Stock SPDR S&P 500 ETF Trust"
   ],
   "metadata": {
    "collapsed": false,
    "pycharm": {
     "name": "#%% md\n"
    }
   }
  },
  {
   "cell_type": "code",
   "execution_count": 29,
   "outputs": [],
   "source": [
    "spy_json = json.loads(fetch_stock_values(symbol='spy'))\n",
    "sdf = pd.DataFrame(spy_json['Time Series (Daily)']).astype(float)\n",
    "spy_df = sdf.drop(['1. open','4. close','5. volume'],axis=0)\n",
    "spy = spy_df.rename({'2. high' : 'high', '3. low' : 'low'})"
   ],
   "metadata": {
    "collapsed": false,
    "pycharm": {
     "name": "#%%\n"
    }
   }
  },
  {
   "cell_type": "markdown",
   "source": [
    "#### 2. Zoom Video Communications Inc"
   ],
   "metadata": {
    "collapsed": false,
    "pycharm": {
     "name": "#%% md\n"
    }
   }
  },
  {
   "cell_type": "code",
   "execution_count": 30,
   "outputs": [],
   "source": [
    "zm_json = json.loads(fetch_stock_values(symbol='ZM'))\n",
    "zdf = pd.DataFrame(zm_json['Time Series (Daily)']).astype(float)\n",
    "zm_df = zdf.drop(['1. open','4. close','5. volume'],axis=0)\n",
    "zm = zm_df.rename({'2. high' : 'high', '3. low' : 'low'})"
   ],
   "metadata": {
    "collapsed": false,
    "pycharm": {
     "name": "#%%\n"
    }
   }
  },
  {
   "cell_type": "markdown",
   "source": [
    "#### 3. Delta Air Lines, Inc"
   ],
   "metadata": {
    "collapsed": false,
    "pycharm": {
     "name": "#%% md\n"
    }
   }
  },
  {
   "cell_type": "code",
   "execution_count": 31,
   "outputs": [],
   "source": [
    "dal_json = json.loads(fetch_stock_values(symbol='DAL'))\n",
    "ddf = pd.DataFrame(dal_json['Time Series (Daily)']).astype(float)\n",
    "dal_df = ddf.drop(['1. open','4. close','5. volume'],axis=0)\n",
    "dal = dal_df.rename({'2. high' : 'high', '3. low' : 'low'})"
   ],
   "metadata": {
    "collapsed": false,
    "pycharm": {
     "name": "#%%\n"
    }
   }
  },
  {
   "cell_type": "markdown",
   "source": [
    "#### 4. Annaly Capital Management, Inc"
   ],
   "metadata": {
    "collapsed": false,
    "pycharm": {
     "name": "#%% md\n"
    }
   }
  },
  {
   "cell_type": "code",
   "execution_count": 32,
   "outputs": [],
   "source": [
    "nly_json = json.loads(fetch_stock_values(symbol='NLY'))\n",
    "ndf = pd.DataFrame(nly_json['Time Series (Daily)']).astype(float)\n",
    "nly_df = ndf.drop(['1. open','4. close','5. volume'],axis=0)\n",
    "nly = nly_df.rename({'2. high' : 'high', '3. low' : 'low'})"
   ],
   "metadata": {
    "collapsed": false,
    "pycharm": {
     "name": "#%%\n"
    }
   }
  },
  {
   "cell_type": "markdown",
   "source": [
    "#### 5. GOLD"
   ],
   "metadata": {
    "collapsed": false,
    "pycharm": {
     "name": "#%% md\n"
    }
   }
  },
  {
   "cell_type": "code",
   "execution_count": 33,
   "outputs": [],
   "source": [
    "gld_json = json.loads(fetch_stock_values(symbol='GOLD'))\n",
    "gdf = pd.DataFrame(gld_json['Time Series (Daily)']).astype(float)\n",
    "gld_df = gdf.drop(['1. open','4. close','5. volume'],axis=0)\n",
    "gld = gld_df.rename({'2. high' : 'high', '3. low' : 'low'})"
   ],
   "metadata": {
    "collapsed": false,
    "pycharm": {
     "name": "#%%\n"
    }
   }
  },
  {
   "cell_type": "markdown",
   "source": [
    "### Transposing the Stock Datasets"
   ],
   "metadata": {
    "collapsed": false,
    "pycharm": {
     "name": "#%% md\n"
    }
   }
  },
  {
   "cell_type": "code",
   "execution_count": 34,
   "outputs": [],
   "source": [
    "spy_tp_df = spy.T\n",
    "zm_tp_df = zm.T\n",
    "dal_tp_df = dal.T\n",
    "nly_tp_df = nly.T\n",
    "gld_tp_df = gld.T"
   ],
   "metadata": {
    "collapsed": false,
    "pycharm": {
     "name": "#%%\n"
    }
   }
  },
  {
   "cell_type": "code",
   "execution_count": 35,
   "outputs": [
    {
     "data": {
      "text/plain": "                high     low\nDate                        \n2022-04-25  428.6900  418.84\n2022-04-22  438.0825  425.44\n2022-04-21  450.0100  437.10\n2022-04-20  447.5700  443.48\n2022-04-19  445.8000  437.68",
      "text/html": "<div>\n<style scoped>\n    .dataframe tbody tr th:only-of-type {\n        vertical-align: middle;\n    }\n\n    .dataframe tbody tr th {\n        vertical-align: top;\n    }\n\n    .dataframe thead th {\n        text-align: right;\n    }\n</style>\n<table border=\"1\" class=\"dataframe\">\n  <thead>\n    <tr style=\"text-align: right;\">\n      <th></th>\n      <th>high</th>\n      <th>low</th>\n    </tr>\n    <tr>\n      <th>Date</th>\n      <th></th>\n      <th></th>\n    </tr>\n  </thead>\n  <tbody>\n    <tr>\n      <th>2022-04-25</th>\n      <td>428.6900</td>\n      <td>418.84</td>\n    </tr>\n    <tr>\n      <th>2022-04-22</th>\n      <td>438.0825</td>\n      <td>425.44</td>\n    </tr>\n    <tr>\n      <th>2022-04-21</th>\n      <td>450.0100</td>\n      <td>437.10</td>\n    </tr>\n    <tr>\n      <th>2022-04-20</th>\n      <td>447.5700</td>\n      <td>443.48</td>\n    </tr>\n    <tr>\n      <th>2022-04-19</th>\n      <td>445.8000</td>\n      <td>437.68</td>\n    </tr>\n  </tbody>\n</table>\n</div>"
     },
     "execution_count": 35,
     "metadata": {},
     "output_type": "execute_result"
    }
   ],
   "source": [
    "# Creating Date as default index\n",
    "spy_tp_df.rename_axis('Date', inplace=True)\n",
    "\n",
    "# Printing one Datasets\n",
    "spy_tp_df.head(5)"
   ],
   "metadata": {
    "collapsed": false,
    "pycharm": {
     "name": "#%%\n"
    }
   }
  },
  {
   "cell_type": "code",
   "execution_count": 35,
   "outputs": [],
   "source": [],
   "metadata": {
    "collapsed": false,
    "pycharm": {
     "name": "#%%\n"
    }
   }
  }
 ],
 "metadata": {
  "kernelspec": {
   "display_name": "Python 3 (ipykernel)",
   "language": "python",
   "name": "python3"
  },
  "language_info": {
   "codemirror_mode": {
    "name": "ipython",
    "version": 3
   },
   "file_extension": ".py",
   "mimetype": "text/x-python",
   "name": "python",
   "nbconvert_exporter": "python",
   "pygments_lexer": "ipython3",
   "version": "3.9.12"
  }
 },
 "nbformat": 4,
 "nbformat_minor": 1
}