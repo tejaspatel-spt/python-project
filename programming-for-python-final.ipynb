{
 "cells": [
  {
   "cell_type": "code",
   "execution_count": 2,
   "metadata": {
    "collapsed": true,
    "pycharm": {
     "name": "#%%\n"
    }
   },
   "outputs": [],
   "source": [
    "import pandas as pd\n",
    "import requests\n",
    "import json\n",
    "import seaborn as sns\n",
    "import matplotlib.pyplot as plt"
   ]
  },
  {
   "cell_type": "code",
   "execution_count": 3,
   "metadata": {
    "collapsed": false,
    "pycharm": {
     "name": "#%%\n"
    }
   },
   "outputs": [],
   "source": [
    "# Defining Constants\n",
    "api_key = \"ZOC333QF0ZHXU5YD\"\n",
    "series = \"TIME_SERIES_DAILY\"\n",
    "request_url = \"https://www.alphavantage.co/query\"\n",
    "d_address = 'Data/Deaths.csv'\n",
    "c_address = 'Data/Confirmed.csv'"
   ]
  },
  {
   "cell_type": "markdown",
   "metadata": {
    "collapsed": false,
    "pycharm": {
     "name": "#%% md\n"
    }
   },
   "source": [
    "### Fetching Stock Datasets from Alphavantage"
   ]
  },
  {
   "cell_type": "code",
   "execution_count": 4,
   "metadata": {
    "collapsed": false,
    "pycharm": {
     "name": "#%%\n"
    }
   },
   "outputs": [],
   "source": [
    "def fetch_stock_values(symbol):\n",
    "    query_params = {\n",
    "        'function' : series,\n",
    "        'symbol' : symbol,\n",
    "        'apikey': api_key\n",
    "    }\n",
    "    headers = {\n",
    "        'User-Agent': 'XY',\n",
    "        'Content-type': 'application/json'\n",
    "    }\n",
    "    response = requests.get(request_url, headers=headers, params=query_params)\n",
    "    return response.text if response.status_code == 200 else \"Something went wrong\""
   ]
  },
  {
   "cell_type": "markdown",
   "metadata": {
    "collapsed": false,
    "pycharm": {
     "name": "#%% md\n"
    }
   },
   "source": [
    "#### 1. First Stock SPDR S&P 500 ETF Trust"
   ]
  },
  {
   "cell_type": "code",
   "execution_count": 5,
   "metadata": {
    "collapsed": false,
    "pycharm": {
     "name": "#%%\n"
    }
   },
   "outputs": [],
   "source": [
    "spy_json = json.loads(fetch_stock_values(symbol='spy'))\n",
    "sdf = pd.DataFrame(spy_json['Time Series (Daily)']).astype(float)\n",
    "spy_df = sdf.drop(['1. open','4. close','5. volume'],axis=0)\n",
    "spy = spy_df.rename({'2. high' : 'high', '3. low' : 'low'})"
   ]
  },
  {
   "cell_type": "markdown",
   "metadata": {
    "collapsed": false,
    "pycharm": {
     "name": "#%% md\n"
    }
   },
   "source": [
    "#### 2. Zoom Video Communications Inc"
   ]
  },
  {
   "cell_type": "code",
   "execution_count": 6,
   "metadata": {
    "collapsed": false,
    "pycharm": {
     "name": "#%%\n"
    }
   },
   "outputs": [],
   "source": [
    "zm_json = json.loads(fetch_stock_values(symbol='ZM'))\n",
    "zdf = pd.DataFrame(zm_json['Time Series (Daily)']).astype(float)\n",
    "zm_df = zdf.drop(['1. open','4. close','5. volume'],axis=0)\n",
    "zm = zm_df.rename({'2. high' : 'high', '3. low' : 'low'})"
   ]
  },
  {
   "cell_type": "markdown",
   "metadata": {
    "collapsed": false,
    "pycharm": {
     "name": "#%% md\n"
    }
   },
   "source": [
    "#### 3. Delta Air Lines, Inc"
   ]
  },
  {
   "cell_type": "code",
   "execution_count": 7,
   "metadata": {
    "collapsed": false,
    "pycharm": {
     "name": "#%%\n"
    }
   },
   "outputs": [],
   "source": [
    "dal_json = json.loads(fetch_stock_values(symbol='DAL'))\n",
    "ddf = pd.DataFrame(dal_json['Time Series (Daily)']).astype(float)\n",
    "dal_df = ddf.drop(['1. open','4. close','5. volume'],axis=0)\n",
    "dal = dal_df.rename({'2. high' : 'high', '3. low' : 'low'})"
   ]
  },
  {
   "cell_type": "markdown",
   "metadata": {
    "collapsed": false,
    "pycharm": {
     "name": "#%% md\n"
    }
   },
   "source": [
    "#### 4. Annaly Capital Management, Inc"
   ]
  },
  {
   "cell_type": "code",
   "execution_count": 8,
   "metadata": {
    "collapsed": false,
    "pycharm": {
     "name": "#%%\n"
    }
   },
   "outputs": [],
   "source": [
    "nly_json = json.loads(fetch_stock_values(symbol='NLY'))\n",
    "ndf = pd.DataFrame(nly_json['Time Series (Daily)']).astype(float)\n",
    "nly_df = ndf.drop(['1. open','4. close','5. volume'],axis=0)\n",
    "nly = nly_df.rename({'2. high' : 'high', '3. low' : 'low'})"
   ]
  },
  {
   "cell_type": "markdown",
   "metadata": {
    "collapsed": false,
    "pycharm": {
     "name": "#%% md\n"
    }
   },
   "source": [
    "#### 5. GOLD"
   ]
  },
  {
   "cell_type": "code",
   "execution_count": 9,
   "metadata": {
    "collapsed": false,
    "pycharm": {
     "name": "#%%\n"
    }
   },
   "outputs": [],
   "source": [
    "gld_json = json.loads(fetch_stock_values(symbol='GOLD'))\n",
    "gdf = pd.DataFrame(gld_json['Time Series (Daily)']).astype(float)\n",
    "gld_df = gdf.drop(['1. open','4. close','5. volume'],axis=0)\n",
    "gld = gld_df.rename({'2. high' : 'high', '3. low' : 'low'})"
   ]
  },
  {
   "cell_type": "markdown",
   "metadata": {
    "collapsed": false,
    "pycharm": {
     "name": "#%% md\n"
    }
   },
   "source": [
    "### Transposing the Stock Datasets"
   ]
  },
  {
   "cell_type": "code",
   "execution_count": 10,
   "metadata": {
    "collapsed": false,
    "pycharm": {
     "name": "#%%\n"
    }
   },
   "outputs": [],
   "source": [
    "spy_tp_df = spy.T\n",
    "zm_tp_df = zm.T\n",
    "dal_tp_df = dal.T\n",
    "nly_tp_df = nly.T\n",
    "gld_tp_df = gld.T"
   ]
  },
  {
   "cell_type": "code",
   "execution_count": 11,
   "metadata": {
    "collapsed": false,
    "pycharm": {
     "name": "#%%\n"
    }
   },
   "outputs": [
    {
     "data": {
      "text/html": [
       "<div>\n",
       "<style scoped>\n",
       "    .dataframe tbody tr th:only-of-type {\n",
       "        vertical-align: middle;\n",
       "    }\n",
       "\n",
       "    .dataframe tbody tr th {\n",
       "        vertical-align: top;\n",
       "    }\n",
       "\n",
       "    .dataframe thead th {\n",
       "        text-align: right;\n",
       "    }\n",
       "</style>\n",
       "<table border=\"1\" class=\"dataframe\">\n",
       "  <thead>\n",
       "    <tr style=\"text-align: right;\">\n",
       "      <th></th>\n",
       "      <th>high</th>\n",
       "      <th>low</th>\n",
       "    </tr>\n",
       "    <tr>\n",
       "      <th>Date</th>\n",
       "      <th></th>\n",
       "      <th></th>\n",
       "    </tr>\n",
       "  </thead>\n",
       "  <tbody>\n",
       "    <tr>\n",
       "      <th>2022-04-25</th>\n",
       "      <td>428.6900</td>\n",
       "      <td>418.84</td>\n",
       "    </tr>\n",
       "    <tr>\n",
       "      <th>2022-04-22</th>\n",
       "      <td>438.0825</td>\n",
       "      <td>425.44</td>\n",
       "    </tr>\n",
       "    <tr>\n",
       "      <th>2022-04-21</th>\n",
       "      <td>450.0100</td>\n",
       "      <td>437.10</td>\n",
       "    </tr>\n",
       "    <tr>\n",
       "      <th>2022-04-20</th>\n",
       "      <td>447.5700</td>\n",
       "      <td>443.48</td>\n",
       "    </tr>\n",
       "    <tr>\n",
       "      <th>2022-04-19</th>\n",
       "      <td>445.8000</td>\n",
       "      <td>437.68</td>\n",
       "    </tr>\n",
       "  </tbody>\n",
       "</table>\n",
       "</div>"
      ],
      "text/plain": [
       "                high     low\n",
       "Date                        \n",
       "2022-04-25  428.6900  418.84\n",
       "2022-04-22  438.0825  425.44\n",
       "2022-04-21  450.0100  437.10\n",
       "2022-04-20  447.5700  443.48\n",
       "2022-04-19  445.8000  437.68"
      ]
     },
     "execution_count": 11,
     "metadata": {},
     "output_type": "execute_result"
    }
   ],
   "source": [
    "# Creating Date as default index\n",
    "spy_tp_df.rename_axis('Date', inplace=True)\n",
    "\n",
    "# Printing one Datasets\n",
    "spy_tp_df.head(5)"
   ]
  },
  {
   "cell_type": "markdown",
   "metadata": {},
   "source": [
    "### Importing Covid Deaths Dataset"
   ]
  },
  {
   "cell_type": "code",
   "execution_count": 12,
   "metadata": {},
   "outputs": [
    {
     "data": {
      "text/html": [
       "<div>\n",
       "<style scoped>\n",
       "    .dataframe tbody tr th:only-of-type {\n",
       "        vertical-align: middle;\n",
       "    }\n",
       "\n",
       "    .dataframe tbody tr th {\n",
       "        vertical-align: top;\n",
       "    }\n",
       "\n",
       "    .dataframe thead th {\n",
       "        text-align: right;\n",
       "    }\n",
       "</style>\n",
       "<table border=\"1\" class=\"dataframe\">\n",
       "  <thead>\n",
       "    <tr style=\"text-align: right;\">\n",
       "      <th></th>\n",
       "      <th>Deaths</th>\n",
       "    </tr>\n",
       "    <tr>\n",
       "      <th>Date</th>\n",
       "      <th></th>\n",
       "    </tr>\n",
       "  </thead>\n",
       "  <tbody>\n",
       "    <tr>\n",
       "      <th>2022-04-25</th>\n",
       "      <td>388.85</td>\n",
       "    </tr>\n",
       "    <tr>\n",
       "      <th>2022-04-24</th>\n",
       "      <td>388.78</td>\n",
       "    </tr>\n",
       "    <tr>\n",
       "      <th>2022-04-23</th>\n",
       "      <td>388.53</td>\n",
       "    </tr>\n",
       "    <tr>\n",
       "      <th>2022-04-22</th>\n",
       "      <td>388.01</td>\n",
       "    </tr>\n",
       "    <tr>\n",
       "      <th>2022-04-21</th>\n",
       "      <td>386.96</td>\n",
       "    </tr>\n",
       "    <tr>\n",
       "      <th>...</th>\n",
       "      <td>...</td>\n",
       "    </tr>\n",
       "    <tr>\n",
       "      <th>2021-12-05</th>\n",
       "      <td>298.96</td>\n",
       "    </tr>\n",
       "    <tr>\n",
       "      <th>2021-12-04</th>\n",
       "      <td>298.89</td>\n",
       "    </tr>\n",
       "    <tr>\n",
       "      <th>2021-12-03</th>\n",
       "      <td>298.80</td>\n",
       "    </tr>\n",
       "    <tr>\n",
       "      <th>2021-12-02</th>\n",
       "      <td>298.58</td>\n",
       "    </tr>\n",
       "    <tr>\n",
       "      <th>2021-12-01</th>\n",
       "      <td>298.37</td>\n",
       "    </tr>\n",
       "  </tbody>\n",
       "</table>\n",
       "<p>146 rows × 1 columns</p>\n",
       "</div>"
      ],
      "text/plain": [
       "            Deaths\n",
       "Date              \n",
       "2022-04-25  388.85\n",
       "2022-04-24  388.78\n",
       "2022-04-23  388.53\n",
       "2022-04-22  388.01\n",
       "2022-04-21  386.96\n",
       "...            ...\n",
       "2021-12-05  298.96\n",
       "2021-12-04  298.89\n",
       "2021-12-03  298.80\n",
       "2021-12-02  298.58\n",
       "2021-12-01  298.37\n",
       "\n",
       "[146 rows x 1 columns]"
      ]
     },
     "execution_count": 12,
     "metadata": {},
     "output_type": "execute_result"
    }
   ],
   "source": [
    "# Importing COVID Deaths data from CSV\n",
    "deaths_data = pd.read_csv(d_address, index_col=False)\n",
    "\n",
    "# Formatting the date as YYYY-MM-dddd format\n",
    "deaths_data['Date'] = pd.to_datetime(deaths_data['Date']).dt.strftime('%Y-%m-%d')\n",
    "\n",
    "# Reversing the order of both Dates and Deaths data such that value is at position 1.\n",
    "deaths_data['Date'] = deaths_data['Date'].values[::-1].astype(str)\n",
    "deaths_data['Deaths'] = deaths_data['Deaths'].values[::-1]\n",
    "\n",
    "# Assigning Date as default index\n",
    "deaths_data.set_index('Date', inplace=True)\n",
    "\n",
    "# Number of Deaths is in multiples of 10k we will have to divide it such that the visuals can correlate each other.\n",
    "deaths_data['Deaths'] = deaths_data['Deaths'].div(100)\n",
    "\n",
    "# Printing Dataframe\n",
    "deaths_data"
   ]
  },
  {
   "cell_type": "markdown",
   "metadata": {},
   "source": [
    "### Importing covid Confirmed Dataset"
   ]
  },
  {
   "cell_type": "code",
   "execution_count": 13,
   "metadata": {},
   "outputs": [
    {
     "data": {
      "text/html": [
       "<div>\n",
       "<style scoped>\n",
       "    .dataframe tbody tr th:only-of-type {\n",
       "        vertical-align: middle;\n",
       "    }\n",
       "\n",
       "    .dataframe tbody tr th {\n",
       "        vertical-align: top;\n",
       "    }\n",
       "\n",
       "    .dataframe thead th {\n",
       "        text-align: right;\n",
       "    }\n",
       "</style>\n",
       "<table border=\"1\" class=\"dataframe\">\n",
       "  <thead>\n",
       "    <tr style=\"text-align: right;\">\n",
       "      <th></th>\n",
       "      <th>Confirmed</th>\n",
       "    </tr>\n",
       "    <tr>\n",
       "      <th>Date</th>\n",
       "      <th></th>\n",
       "    </tr>\n",
       "  </thead>\n",
       "  <tbody>\n",
       "    <tr>\n",
       "      <th>2022-04-24</th>\n",
       "      <td>388.78</td>\n",
       "    </tr>\n",
       "    <tr>\n",
       "      <th>2022-04-23</th>\n",
       "      <td>388.53</td>\n",
       "    </tr>\n",
       "    <tr>\n",
       "      <th>2022-04-22</th>\n",
       "      <td>388.01</td>\n",
       "    </tr>\n",
       "    <tr>\n",
       "      <th>2022-04-21</th>\n",
       "      <td>386.96</td>\n",
       "    </tr>\n",
       "    <tr>\n",
       "      <th>2022-04-20</th>\n",
       "      <td>385.76</td>\n",
       "    </tr>\n",
       "    <tr>\n",
       "      <th>...</th>\n",
       "      <td>...</td>\n",
       "    </tr>\n",
       "    <tr>\n",
       "      <th>2021-12-05</th>\n",
       "      <td>298.96</td>\n",
       "    </tr>\n",
       "    <tr>\n",
       "      <th>2021-12-04</th>\n",
       "      <td>298.89</td>\n",
       "    </tr>\n",
       "    <tr>\n",
       "      <th>2021-12-03</th>\n",
       "      <td>298.80</td>\n",
       "    </tr>\n",
       "    <tr>\n",
       "      <th>2021-12-02</th>\n",
       "      <td>298.58</td>\n",
       "    </tr>\n",
       "    <tr>\n",
       "      <th>2021-12-01</th>\n",
       "      <td>298.37</td>\n",
       "    </tr>\n",
       "  </tbody>\n",
       "</table>\n",
       "<p>145 rows × 1 columns</p>\n",
       "</div>"
      ],
      "text/plain": [
       "            Confirmed\n",
       "Date                 \n",
       "2022-04-24     388.78\n",
       "2022-04-23     388.53\n",
       "2022-04-22     388.01\n",
       "2022-04-21     386.96\n",
       "2022-04-20     385.76\n",
       "...               ...\n",
       "2021-12-05     298.96\n",
       "2021-12-04     298.89\n",
       "2021-12-03     298.80\n",
       "2021-12-02     298.58\n",
       "2021-12-01     298.37\n",
       "\n",
       "[145 rows x 1 columns]"
      ]
     },
     "execution_count": 13,
     "metadata": {},
     "output_type": "execute_result"
    }
   ],
   "source": [
    "# Importing COVID confirmed cases data from CSV\n",
    "confirmed_data = pd.read_csv(c_address, index_col=False)\n",
    "\n",
    "# Formatting the date as YYYY-MM-dddd format\n",
    "confirmed_data['Date'] = pd.to_datetime(confirmed_data['Date']).dt.strftime('%Y-%m-%d')\n",
    "\n",
    "# Reversing the order of both Dates and Confirmed cases data such that value is at position 1.\n",
    "confirmed_data['Date'] = confirmed_data['Date'].values[::-1].astype(str)\n",
    "confirmed_data['Confirmed'] = confirmed_data['Confirmed'].values[::-1]\n",
    "\n",
    "# Assigning Date as default index\n",
    "confirmed_data.set_index('Date', inplace=True)\n",
    "\n",
    "# Number of Confirmed cases is in multiples of 10k we will have to divide it such that the visuals can correlate each other.\n",
    "confirmed_data['Confirmed'] = confirmed_data['Confirmed'].div(100)\n",
    "\n",
    "# Printing Dataframe\n",
    "confirmed_data"
   ]
  }
 ],
 "metadata": {
  "kernelspec": {
   "display_name": "Python 3 (ipykernel)",
   "language": "python",
   "name": "python3"
  },
  "language_info": {
   "codemirror_mode": {
    "name": "ipython",
    "version": 3
   },
   "file_extension": ".py",
   "mimetype": "text/x-python",
   "name": "python",
   "nbconvert_exporter": "python",
   "pygments_lexer": "ipython3",
   "version": "3.7.0"
  }
 },
 "nbformat": 4,
 "nbformat_minor": 1
}
