{
 "cells": [
  {
   "cell_type": "code",
   "execution_count": 26,
   "metadata": {
    "collapsed": true,
    "pycharm": {
     "name": "#%%\n"
    }
   },
   "outputs": [],
   "source": [
    "import pandas as pd\n",
    "import requests\n",
    "import json\n",
    "import seaborn as sns\n",
    "import matplotlib.pyplot as plt"
   ]
  },
  {
   "cell_type": "code",
   "execution_count": 27,
   "outputs": [],
   "source": [
    "# Defining Constants\n",
    "api_key = \"ZOC333QF0ZHXU5YD\"\n",
    "series = \"TIME_SERIES_DAILY\"\n",
    "request_url = \"https://www.alphavantage.co/query\""
   ],
   "metadata": {
    "collapsed": false,
    "pycharm": {
     "name": "#%%\n"
    }
   }
  },
  {
   "cell_type": "markdown",
   "source": [
    "### Fetching Stock Datasets from Alphavantage"
   ],
   "metadata": {
    "collapsed": false,
    "pycharm": {
     "name": "#%% md\n"
    }
   }
  },
  {
   "cell_type": "code",
   "execution_count": 28,
   "outputs": [],
   "source": [
    "def fetch_stock_values(symbol):\n",
    "    query_params = {\n",
    "        'function' : series,\n",
    "        'symbol' : symbol,\n",
    "        'apikey': api_key\n",
    "    }\n",
    "    headers = {\n",
    "        'User-Agent': 'XY',\n",
    "        'Content-type': 'application/json'\n",
    "    }\n",
    "    response = requests.get(request_url, headers=headers, params=query_params)\n",
    "    return response.text if response.status_code == 200 else \"Something went wrong\""
   ],
   "metadata": {
    "collapsed": false,
    "pycharm": {
     "name": "#%%\n"
    }
   }
  },
  {
   "cell_type": "markdown",
   "source": [
    "#### 1. Stock SPDR S&P 500 ETF Trust"
   ],
   "metadata": {
    "collapsed": false,
    "pycharm": {
     "name": "#%% md\n"
    }
   }
  },
  {
   "cell_type": "code",
   "execution_count": 29,
   "outputs": [],
   "source": [
    "spy_json = json.loads(fetch_stock_values(symbol='spy'))\n",
    "sdf = pd.DataFrame(spy_json['Time Series (Daily)']).astype(float)\n",
    "spy_df = sdf.drop(['1. open','4. close','5. volume'],axis=0)\n",
    "spy = spy_df.rename({'2. high' : 'high', '3. low' : 'low'})"
   ],
   "metadata": {
    "collapsed": false,
    "pycharm": {
     "name": "#%%\n"
    }
   }
  },
  {
   "cell_type": "markdown",
   "source": [
    "#### 2. Zoom Video Communications Inc"
   ],
   "metadata": {
    "collapsed": false,
    "pycharm": {
     "name": "#%% md\n"
    }
   }
  },
  {
   "cell_type": "code",
   "execution_count": 30,
   "outputs": [],
   "source": [
    "zm_json = json.loads(fetch_stock_values(symbol='ZM'))\n",
    "zdf = pd.DataFrame(zm_json['Time Series (Daily)']).astype(float)\n",
    "zm_df = zdf.drop(['1. open','4. close','5. volume'],axis=0)\n",
    "zm = zm_df.rename({'2. high' : 'high', '3. low' : 'low'})"
   ],
   "metadata": {
    "collapsed": false,
    "pycharm": {
     "name": "#%%\n"
    }
   }
  },
  {
   "cell_type": "markdown",
   "source": [
    "#### 3. Delta Air Lines, Inc"
   ],
   "metadata": {
    "collapsed": false,
    "pycharm": {
     "name": "#%% md\n"
    }
   }
  },
  {
   "cell_type": "code",
   "execution_count": 31,
   "outputs": [],
   "source": [
    "dal_json = json.loads(fetch_stock_values(symbol='DAL'))\n",
    "ddf = pd.DataFrame(dal_json['Time Series (Daily)']).astype(float)\n",
    "dal_df = ddf.drop(['1. open','4. close','5. volume'],axis=0)\n",
    "dal = dal_df.rename({'2. high' : 'high', '3. low' : 'low'})"
   ],
   "metadata": {
    "collapsed": false,
    "pycharm": {
     "name": "#%%\n"
    }
   }
  },
  {
   "cell_type": "markdown",
   "source": [
    "#### 4. Annaly Capital Management, Inc"
   ],
   "metadata": {
    "collapsed": false,
    "pycharm": {
     "name": "#%% md\n"
    }
   }
  },
  {
   "cell_type": "code",
   "execution_count": 32,
   "outputs": [],
   "source": [
    "nly_json = json.loads(fetch_stock_values(symbol='NLY'))\n",
    "ndf = pd.DataFrame(nly_json['Time Series (Daily)']).astype(float)\n",
    "nly_df = ndf.drop(['1. open','4. close','5. volume'],axis=0)\n",
    "nly = nly_df.rename({'2. high' : 'high', '3. low' : 'low'})"
   ],
   "metadata": {
    "collapsed": false,
    "pycharm": {
     "name": "#%%\n"
    }
   }
  },
  {
   "cell_type": "markdown",
   "source": [
    "#### 5. GOLD"
   ],
   "metadata": {
    "collapsed": false,
    "pycharm": {
     "name": "#%% md\n"
    }
   }
  },
  {
   "cell_type": "code",
   "execution_count": 33,
   "outputs": [],
   "source": [
    "gld_json = json.loads(fetch_stock_values(symbol='GOLD'))\n",
    "gdf = pd.DataFrame(gld_json['Time Series (Daily)']).astype(float)\n",
    "gld_df = gdf.drop(['1. open','4. close','5. volume'],axis=0)\n",
    "gld = gld_df.rename({'2. high' : 'high', '3. low' : 'low'})"
   ],
   "metadata": {
    "collapsed": false,
    "pycharm": {
     "name": "#%%\n"
    }
   }
  },
  {
   "cell_type": "markdown",
   "source": [
    "### Transposing the Stock Datasets"
   ],
   "metadata": {
    "collapsed": false,
    "pycharm": {
     "name": "#%% md\n"
    }
   }
  },
  {
   "cell_type": "code",
   "execution_count": 34,
   "outputs": [],
   "source": [
    "spy_tp_df = spy.T\n",
    "zm_tp_df = zm.T\n",
    "dal_tp_df = dal.T\n",
    "nly_tp_df = nly.T\n",
    "gld_tp_df = gld.T"
   ],
   "metadata": {
    "collapsed": false,
    "pycharm": {
     "name": "#%%\n"
    }
   }
  }
 ],
 "metadata": {
  "kernelspec": {
   "display_name": "Python 3 (ipykernel)",
   "language": "python",
   "name": "python3"
  },
  "language_info": {
   "codemirror_mode": {
    "name": "ipython",
    "version": 3
   },
   "file_extension": ".py",
   "mimetype": "text/x-python",
   "name": "python",
   "nbconvert_exporter": "python",
   "pygments_lexer": "ipython3",
   "version": "3.9.12"
  }
 },
 "nbformat": 4,
 "nbformat_minor": 1
}