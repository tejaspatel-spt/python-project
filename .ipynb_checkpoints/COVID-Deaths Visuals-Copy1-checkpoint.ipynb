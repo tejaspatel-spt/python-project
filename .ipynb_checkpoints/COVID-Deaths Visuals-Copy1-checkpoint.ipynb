{
 "cells": [
  {
   "cell_type": "code",
   "execution_count": 1,
   "id": "c27a9e9e",
   "metadata": {
    "pycharm": {
     "name": "#%%\n"
    }
   },
   "outputs": [],
   "source": [
    "import pandas as pd\n",
    "import matplotlib.pyplot as plt\n",
    "import seaborn as sb\n",
    "import numpy as nm\n"
   ]
  },
  {
   "cell_type": "code",
   "execution_count": 2,
   "id": "225a42ae",
   "metadata": {
    "pycharm": {
     "name": "#%%\n"
    }
   },
   "outputs": [
    {
     "name": "stdout",
     "output_type": "stream",
     "text": [
      "    Province/State        Country/Region        Lat        Long  2020-01-22  \\\n",
      "0              NaN           Afghanistan  33.939110   67.709953         0.0   \n",
      "1              NaN               Albania  41.153300   20.168300         0.0   \n",
      "2              NaN               Algeria  28.033900    1.659600         0.0   \n",
      "3              NaN               Andorra  42.506300    1.521800         0.0   \n",
      "4              NaN                Angola -11.202700   17.873900         0.0   \n",
      "..             ...                   ...        ...         ...         ...   \n",
      "279            NaN    West Bank and Gaza  31.952200   35.233200         0.0   \n",
      "280            NaN  Winter Olympics 2022  39.904200  116.407400         0.0   \n",
      "281            NaN                 Yemen  15.552727   48.516388         0.0   \n",
      "282            NaN                Zambia -13.133897   27.849332         0.0   \n",
      "283            NaN              Zimbabwe -19.015438   29.154857         0.0   \n",
      "\n",
      "     2020-01-23  2020-01-24  2020-01-25  2020-01-26  2020-01-27  ...  \\\n",
      "0           0.0         0.0         0.0         0.0         0.0  ...   \n",
      "1           0.0         0.0         0.0         0.0         0.0  ...   \n",
      "2           0.0         0.0         0.0         0.0         0.0  ...   \n",
      "3           0.0         0.0         0.0         0.0         0.0  ...   \n",
      "4           0.0         0.0         0.0         0.0         0.0  ...   \n",
      "..          ...         ...         ...         ...         ...  ...   \n",
      "279         0.0         0.0         0.0         0.0         0.0  ...   \n",
      "280         0.0         0.0         0.0         0.0         0.0  ...   \n",
      "281         0.0         0.0         0.0         0.0         0.0  ...   \n",
      "282         0.0         0.0         0.0         0.0         0.0  ...   \n",
      "283         0.0         0.0         0.0         0.0         0.0  ...   \n",
      "\n",
      "     2022-04-14  2022-04-15  2022-04-16  2022-04-17  2022-04-18  2022-04-19  \\\n",
      "0        7676.0      7676.0      7676.0      7678.0      7679.0      7680.0   \n",
      "1        3495.0      3495.0      3496.0      3496.0      3496.0      3496.0   \n",
      "2        6874.0      6874.0      6874.0      6874.0      6874.0      6874.0   \n",
      "3         153.0       153.0       153.0       153.0       153.0       153.0   \n",
      "4        1900.0      1900.0      1900.0      1900.0      1900.0      1900.0   \n",
      "..          ...         ...         ...         ...         ...         ...   \n",
      "279      5656.0      5656.0      5656.0      5656.0      5656.0      5657.0   \n",
      "280         0.0         0.0         0.0         0.0         0.0         0.0   \n",
      "281      2147.0      2148.0      2148.0      2148.0      2148.0      2148.0   \n",
      "282      3969.0      3970.0      3973.0      3973.0      3973.0      3973.0   \n",
      "283      5462.0      5462.0      5462.0      5463.0      5464.0      5464.0   \n",
      "\n",
      "     2022-04-20  2022-04-21  2022-04-22  2022-04-23  \n",
      "0        7680.0      7680.0      7680.0      7681.0  \n",
      "1        3496.0      3496.0      3496.0      3496.0  \n",
      "2        6874.0      6874.0      6874.0      6874.0  \n",
      "3         153.0       153.0       153.0       153.0  \n",
      "4        1900.0      1900.0      1900.0      1900.0  \n",
      "..          ...         ...         ...         ...  \n",
      "279      5657.0      5657.0      5657.0      5657.0  \n",
      "280         0.0         0.0         0.0         0.0  \n",
      "281      2148.0      2148.0      2148.0      2148.0  \n",
      "282      3973.0      3974.0      3974.0      3974.0  \n",
      "283      5466.0      5467.0      5468.0      5468.0  \n",
      "\n",
      "[284 rows x 827 columns]\n"
     ]
    }
   ],
   "source": [
    "df = pd.read_csv ('C:/Users/Ishan/Desktop/Python FInal Project/python-project/Data/Deaths.csv')\n",
    "print(df)"
   ]
  },
  {
   "cell_type": "code",
   "execution_count": 3,
   "id": "17c7e287",
   "metadata": {
    "pycharm": {
     "name": "#%%\n"
    }
   },
   "outputs": [
    {
     "ename": "IndentationError",
     "evalue": "expected an indented block (1880784296.py, line 2)",
     "output_type": "error",
     "traceback": [
      "\u001B[1;36m  Input \u001B[1;32mIn [3]\u001B[1;36m\u001B[0m\n\u001B[1;33m    \u001B[0m\n\u001B[1;37m    ^\u001B[0m\n\u001B[1;31mIndentationError\u001B[0m\u001B[1;31m:\u001B[0m expected an indented block\n"
     ]
    }
   ],
   "source": [
    "\n",
    "    "
   ]
  },
  {
   "cell_type": "code",
   "execution_count": null,
   "id": "176bf00d",
   "metadata": {
    "pycharm": {
     "name": "#%%\n"
    }
   },
   "outputs": [],
   "source": []
  }
 ],
 "metadata": {
  "kernelspec": {
   "display_name": "Python 3 (ipykernel)",
   "language": "python",
   "name": "python3"
  },
  "language_info": {
   "codemirror_mode": {
    "name": "ipython",
    "version": 3
   },
   "file_extension": ".py",
   "mimetype": "text/x-python",
   "name": "python",
   "nbconvert_exporter": "python",
   "pygments_lexer": "ipython3",
   "version": "3.9.12"
  }
 },
 "nbformat": 4,
 "nbformat_minor": 5
}