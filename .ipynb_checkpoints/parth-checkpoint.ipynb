{
 "cells": [
  {
   "cell_type": "code",
   "execution_count": 1,
   "metadata": {},
   "outputs": [],
   "source": [
    "import pandas as pd\n",
    "import matplotlib.pyplot as plt\n",
    "import seaborn as sb\n",
    "import numpy as nm"
   ]
  },
  {
   "cell_type": "code",
   "execution_count": 2,
   "metadata": {},
   "outputs": [
    {
     "name": "stdout",
     "output_type": "stream",
     "text": [
      "     Country/Region  Afghanistan  Albania  Algeria  Andorra  Angola  \\\n",
      "0    Province/State          NaN      NaN      NaN      NaN     NaN   \n",
      "1           1/22/20          0.0      0.0      0.0      0.0     0.0   \n",
      "2           1/23/20          0.0      0.0      0.0      0.0     0.0   \n",
      "3           1/24/20          0.0      0.0      0.0      0.0     0.0   \n",
      "4           1/25/20          0.0      0.0      0.0      0.0     0.0   \n",
      "..              ...          ...      ...      ...      ...     ...   \n",
      "819         4/19/22       7680.0   3496.0   6874.0    153.0  1900.0   \n",
      "820         4/20/22       7680.0   3496.0   6874.0    153.0  1900.0   \n",
      "821         4/21/22       7680.0   3496.0   6874.0    153.0  1900.0   \n",
      "822         4/22/22       7680.0   3496.0   6874.0    153.0  1900.0   \n",
      "823         4/23/22       7681.0   3496.0   6874.0    153.0  1900.0   \n",
      "\n",
      "     Antarctica  Antigua and Barbuda  Argentina  Armenia  ... Uruguay  \\\n",
      "0           NaN                  NaN        NaN      NaN  ...     NaN   \n",
      "1           0.0                  0.0        0.0      0.0  ...     0.0   \n",
      "2           0.0                  0.0        0.0      0.0  ...     0.0   \n",
      "3           0.0                  0.0        0.0      0.0  ...     0.0   \n",
      "4           0.0                  0.0        0.0      0.0  ...     0.0   \n",
      "..          ...                  ...        ...      ...  ...     ...   \n",
      "819         0.0                135.0   128344.0   8622.0  ...  7197.0   \n",
      "820         0.0                135.0   128344.0   8622.0  ...  7197.0   \n",
      "821         0.0                135.0   128344.0   8622.0  ...  7197.0   \n",
      "822         0.0                135.0   128344.0   8622.0  ...  7197.0   \n",
      "823         0.0                135.0   128344.0   8622.0  ...  7197.0   \n",
      "\n",
      "    Uzbekistan Vanuatu Venezuela  Vietnam West Bank and Gaza  \\\n",
      "0          NaN     NaN       NaN      NaN                NaN   \n",
      "1          0.0     0.0       0.0      0.0                0.0   \n",
      "2          0.0     0.0       0.0      0.0                0.0   \n",
      "3          0.0     0.0       0.0      0.0                0.0   \n",
      "4          0.0     0.0       0.0      0.0                0.0   \n",
      "..         ...     ...       ...      ...                ...   \n",
      "819     1637.0     7.0    5703.0  42975.0             5657.0   \n",
      "820     1637.0     7.0    5704.0  42982.0             5657.0   \n",
      "821     1637.0     7.0    5704.0  42991.0             5657.0   \n",
      "822     1637.0    12.0    5705.0  42998.0             5657.0   \n",
      "823     1637.0    12.0    5705.0  43004.0             5657.0   \n",
      "\n",
      "    Winter Olympics 2022   Yemen  Zambia  Zimbabwe  \n",
      "0                    NaN     NaN     NaN       NaN  \n",
      "1                    0.0     0.0     0.0       0.0  \n",
      "2                    0.0     0.0     0.0       0.0  \n",
      "3                    0.0     0.0     0.0       0.0  \n",
      "4                    0.0     0.0     0.0       0.0  \n",
      "..                   ...     ...     ...       ...  \n",
      "819                  0.0  2148.0  3973.0    5464.0  \n",
      "820                  0.0  2148.0  3973.0    5466.0  \n",
      "821                  0.0  2148.0  3974.0    5467.0  \n",
      "822                  0.0  2148.0  3974.0    5468.0  \n",
      "823                  0.0  2148.0  3974.0    5468.0  \n",
      "\n",
      "[824 rows x 285 columns]\n"
     ]
    }
   ],
   "source": [
    "df=pd.read_csv('C:/Users/parth/OneDrive/Desktop/Python Project/python-project/Data/Confirmed.csv')\n",
    "print(df)"
   ]
  },
  {
   "cell_type": "code",
   "execution_count": 3,
   "metadata": {},
   "outputs": [
    {
     "data": {
      "text/plain": [
       "<pandas.plotting._core.PlotAccessor object at 0x0000021035288670>"
      ]
     },
     "execution_count": 3,
     "metadata": {},
     "output_type": "execute_result"
    }
   ],
   "source": [
    "df.plot"
   ]
  },
  {
   "cell_type": "code",
   "execution_count": null,
   "metadata": {},
   "outputs": [],
   "source": []
  }
 ],
 "metadata": {
  "interpreter": {
   "hash": "5d95a783a95b3199ac64745f9965687ba8ceaeb0768726c54472dc78d5b76bcc"
  },
  "kernelspec": {
   "display_name": "Python 3 (ipykernel)",
   "language": "python",
   "name": "python3"
  },
  "language_info": {
   "codemirror_mode": {
    "name": "ipython",
    "version": 3
   },
   "file_extension": ".py",
   "mimetype": "text/x-python",
   "name": "python",
   "nbconvert_exporter": "python",
   "pygments_lexer": "ipython3",
   "version": "3.9.7"
  }
 },
 "nbformat": 4,
 "nbformat_minor": 2
}
