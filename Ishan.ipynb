{
 "cells": [
  {
   "cell_type": "code",
   "execution_count": 1,
   "id": "c27a9e9e",
   "metadata": {},
   "outputs": [],
   "source": [
    "import pandas as pd\n",
    "import matplotlib.pyplot as plt\n",
    "import seaborn as sb\n",
    "import numpy as nm\n"
   ]
  },
  {
   "cell_type": "code",
   "execution_count": 2,
   "id": "225a42ae",
   "metadata": {
    "scrolled": true
   },
   "outputs": [
    {
     "name": "stdout",
     "output_type": "stream",
     "text": [
      "           Date  Canada      US\n",
      "0    2020-01-22       0       0\n",
      "1    2020-01-23       0       0\n",
      "2    2020-01-24       0       0\n",
      "3    2020-01-25       0       0\n",
      "4    2020-01-26       0       0\n",
      "..          ...     ...     ...\n",
      "818  2022-04-19   38445  989331\n",
      "819  2022-04-20   38547  990208\n",
      "820  2022-04-21   38667  990679\n",
      "821  2022-04-22   38772  991169\n",
      "822  2022-04-23   38824  991231\n",
      "\n",
      "[823 rows x 3 columns]\n"
     ]
    }
   ],
   "source": [
    "address = 'Data/Deaths.csv'\n",
    "Deaths = pd.read_csv(address)\n",
    "print(Deaths)"
   ]
  },
  {
   "cell_type": "code",
   "execution_count": 3,
   "id": "7face786",
   "metadata": {
    "scrolled": true
   },
   "outputs": [
    {
     "data": {
      "text/plain": [
       "<AxesSubplot:>"
      ]
     },
     "execution_count": 3,
     "metadata": {},
     "output_type": "execute_result"
    },
    {
     "data": {
      "image/png": "[encoded data removed]",
      "text/plain": [
       "<Figure size 432x288 with 1 Axes>"
      ]
     },
     "metadata": {
      "needs_background": "light"
     },
     "output_type": "display_data"
    }
   ],
   "source": [
    "Deaths.plot()\n"
   ]
  },
  {
   "cell_type": "code",
   "execution_count": null,
   "id": "c6596773",
   "metadata": {},
   "outputs": [],
   "source": []
  }
 ],
 "metadata": {
  "kernelspec": {
   "display_name": "Python 3 (ipykernel)",
   "language": "python",
   "name": "python3"
  },
  "language_info": {
   "codemirror_mode": {
    "name": "ipython",
    "version": 3
   },
   "file_extension": ".py",
   "mimetype": "text/x-python",
   "name": "python",
   "nbconvert_exporter": "python",
   "pygments_lexer": "ipython3",
   "version": "3.9.12"
  }
 },
 "nbformat": 4,
 "nbformat_minor": 5
}
